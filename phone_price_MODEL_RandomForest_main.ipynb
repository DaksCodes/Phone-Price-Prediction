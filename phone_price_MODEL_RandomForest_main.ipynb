{
 "cells": [
  {
   "cell_type": "code",
   "execution_count": 1,
   "id": "c72ad618",
   "metadata": {},
   "outputs": [],
   "source": [
    "import numpy as np\n",
    "import pandas as pd\n",
    "import matplotlib.pyplot as plt\n",
    "import seaborn as sns\n",
    "from sklearn.model_selection import train_test_split\n",
    "from sklearn.compose import make_column_transformer\n",
    "from sklearn.preprocessing import StandardScaler\n",
    "from sklearn.ensemble import RandomForestRegressor\n",
    "from sklearn.pipeline import make_pipeline\n",
    "from sklearn.metrics import r2_score\n",
    "from sklearn.preprocessing import OneHotEncoder"
   ]
  },
  {
   "cell_type": "markdown",
   "id": "4007725a",
   "metadata": {},
   "source": [
    "Data Collection And Processing"
   ]
  },
  {
   "cell_type": "code",
   "execution_count": 2,
   "id": "112e83ea",
   "metadata": {},
   "outputs": [],
   "source": [
    "#loading csv data to pandas dataframe"
   ]
  },
  {
   "cell_type": "code",
   "execution_count": 3,
   "id": "eb25fff5",
   "metadata": {},
   "outputs": [],
   "source": [
    "data = pd.read_csv(r'C:\\Users\\DELL\\Desktop\\Phone_cleaned_dataset.csv')"
   ]
  },
  {
   "cell_type": "code",
   "execution_count": 4,
   "id": "41585685",
   "metadata": {},
   "outputs": [
    {
     "data": {
      "text/html": [
       "<div>\n",
       "<style scoped>\n",
       "    .dataframe tbody tr th:only-of-type {\n",
       "        vertical-align: middle;\n",
       "    }\n",
       "\n",
       "    .dataframe tbody tr th {\n",
       "        vertical-align: top;\n",
       "    }\n",
       "\n",
       "    .dataframe thead th {\n",
       "        text-align: right;\n",
       "    }\n",
       "</style>\n",
       "<table border=\"1\" class=\"dataframe\">\n",
       "  <thead>\n",
       "    <tr style=\"text-align: right;\">\n",
       "      <th></th>\n",
       "      <th>Unnamed: 0</th>\n",
       "      <th>Brand me</th>\n",
       "      <th>Ratings</th>\n",
       "      <th>RAM</th>\n",
       "      <th>Mobile_Size</th>\n",
       "      <th>Primary_Cam</th>\n",
       "      <th>Selfi_Cam</th>\n",
       "      <th>Battery_Power</th>\n",
       "      <th>Price</th>\n",
       "    </tr>\n",
       "  </thead>\n",
       "  <tbody>\n",
       "    <tr>\n",
       "      <th>0</th>\n",
       "      <td>0</td>\n",
       "      <td>LG</td>\n",
       "      <td>4.3</td>\n",
       "      <td>4</td>\n",
       "      <td>6.00</td>\n",
       "      <td>48</td>\n",
       "      <td>13</td>\n",
       "      <td>4000</td>\n",
       "      <td>24999</td>\n",
       "    </tr>\n",
       "    <tr>\n",
       "      <th>1</th>\n",
       "      <td>1</td>\n",
       "      <td>IKall</td>\n",
       "      <td>3.4</td>\n",
       "      <td>6</td>\n",
       "      <td>4.50</td>\n",
       "      <td>48</td>\n",
       "      <td>12</td>\n",
       "      <td>4000</td>\n",
       "      <td>15999</td>\n",
       "    </tr>\n",
       "    <tr>\n",
       "      <th>2</th>\n",
       "      <td>2</td>\n",
       "      <td>Nokia</td>\n",
       "      <td>4.3</td>\n",
       "      <td>4</td>\n",
       "      <td>4.50</td>\n",
       "      <td>64</td>\n",
       "      <td>16</td>\n",
       "      <td>4000</td>\n",
       "      <td>15000</td>\n",
       "    </tr>\n",
       "    <tr>\n",
       "      <th>3</th>\n",
       "      <td>3</td>\n",
       "      <td>Samsung</td>\n",
       "      <td>4.4</td>\n",
       "      <td>6</td>\n",
       "      <td>6.40</td>\n",
       "      <td>48</td>\n",
       "      <td>15</td>\n",
       "      <td>3800</td>\n",
       "      <td>18999</td>\n",
       "    </tr>\n",
       "    <tr>\n",
       "      <th>4</th>\n",
       "      <td>4</td>\n",
       "      <td>POCO</td>\n",
       "      <td>4.5</td>\n",
       "      <td>6</td>\n",
       "      <td>6.18</td>\n",
       "      <td>35</td>\n",
       "      <td>15</td>\n",
       "      <td>3800</td>\n",
       "      <td>18999</td>\n",
       "    </tr>\n",
       "  </tbody>\n",
       "</table>\n",
       "</div>"
      ],
      "text/plain": [
       "   Unnamed: 0 Brand me  Ratings  RAM  Mobile_Size  Primary_Cam  Selfi_Cam  \\\n",
       "0           0       LG      4.3    4         6.00           48         13   \n",
       "1           1    IKall      3.4    6         4.50           48         12   \n",
       "2           2    Nokia      4.3    4         4.50           64         16   \n",
       "3           3  Samsung      4.4    6         6.40           48         15   \n",
       "4           4     POCO      4.5    6         6.18           35         15   \n",
       "\n",
       "   Battery_Power  Price  \n",
       "0           4000  24999  \n",
       "1           4000  15999  \n",
       "2           4000  15000  \n",
       "3           3800  18999  \n",
       "4           3800  18999  "
      ]
     },
     "execution_count": 4,
     "metadata": {},
     "output_type": "execute_result"
    }
   ],
   "source": [
    "data.head()"
   ]
  },
  {
   "cell_type": "code",
   "execution_count": 5,
   "id": "ab866bd5",
   "metadata": {},
   "outputs": [
    {
     "data": {
      "text/html": [
       "<div>\n",
       "<style scoped>\n",
       "    .dataframe tbody tr th:only-of-type {\n",
       "        vertical-align: middle;\n",
       "    }\n",
       "\n",
       "    .dataframe tbody tr th {\n",
       "        vertical-align: top;\n",
       "    }\n",
       "\n",
       "    .dataframe thead th {\n",
       "        text-align: right;\n",
       "    }\n",
       "</style>\n",
       "<table border=\"1\" class=\"dataframe\">\n",
       "  <thead>\n",
       "    <tr style=\"text-align: right;\">\n",
       "      <th></th>\n",
       "      <th>Unnamed: 0</th>\n",
       "      <th>Brand me</th>\n",
       "      <th>Ratings</th>\n",
       "      <th>RAM</th>\n",
       "      <th>Mobile_Size</th>\n",
       "      <th>Primary_Cam</th>\n",
       "      <th>Selfi_Cam</th>\n",
       "      <th>Battery_Power</th>\n",
       "      <th>Price</th>\n",
       "    </tr>\n",
       "  </thead>\n",
       "  <tbody>\n",
       "    <tr>\n",
       "      <th>516</th>\n",
       "      <td>516</td>\n",
       "      <td>Samsung</td>\n",
       "      <td>4.6</td>\n",
       "      <td>4</td>\n",
       "      <td>6.20</td>\n",
       "      <td>35</td>\n",
       "      <td>8</td>\n",
       "      <td>3500</td>\n",
       "      <td>53990</td>\n",
       "    </tr>\n",
       "    <tr>\n",
       "      <th>517</th>\n",
       "      <td>517</td>\n",
       "      <td>Black</td>\n",
       "      <td>4.4</td>\n",
       "      <td>6</td>\n",
       "      <td>6.39</td>\n",
       "      <td>48</td>\n",
       "      <td>12</td>\n",
       "      <td>3800</td>\n",
       "      <td>31999</td>\n",
       "    </tr>\n",
       "    <tr>\n",
       "      <th>518</th>\n",
       "      <td>518</td>\n",
       "      <td>Karbonn</td>\n",
       "      <td>3.8</td>\n",
       "      <td>6</td>\n",
       "      <td>4.54</td>\n",
       "      <td>48</td>\n",
       "      <td>12</td>\n",
       "      <td>2800</td>\n",
       "      <td>1299</td>\n",
       "    </tr>\n",
       "    <tr>\n",
       "      <th>519</th>\n",
       "      <td>519</td>\n",
       "      <td>Alcatel</td>\n",
       "      <td>4.4</td>\n",
       "      <td>3</td>\n",
       "      <td>6.20</td>\n",
       "      <td>48</td>\n",
       "      <td>1</td>\n",
       "      <td>3800</td>\n",
       "      <td>9790</td>\n",
       "    </tr>\n",
       "    <tr>\n",
       "      <th>520</th>\n",
       "      <td>520</td>\n",
       "      <td>Blacear</td>\n",
       "      <td>3.5</td>\n",
       "      <td>6</td>\n",
       "      <td>4.50</td>\n",
       "      <td>64</td>\n",
       "      <td>15</td>\n",
       "      <td>1050</td>\n",
       "      <td>799</td>\n",
       "    </tr>\n",
       "  </tbody>\n",
       "</table>\n",
       "</div>"
      ],
      "text/plain": [
       "     Unnamed: 0 Brand me  Ratings  RAM  Mobile_Size  Primary_Cam  Selfi_Cam  \\\n",
       "516         516  Samsung      4.6    4         6.20           35          8   \n",
       "517         517    Black      4.4    6         6.39           48         12   \n",
       "518         518  Karbonn      3.8    6         4.54           48         12   \n",
       "519         519  Alcatel      4.4    3         6.20           48          1   \n",
       "520         520  Blacear      3.5    6         4.50           64         15   \n",
       "\n",
       "     Battery_Power  Price  \n",
       "516           3500  53990  \n",
       "517           3800  31999  \n",
       "518           2800   1299  \n",
       "519           3800   9790  \n",
       "520           1050    799  "
      ]
     },
     "execution_count": 5,
     "metadata": {},
     "output_type": "execute_result"
    }
   ],
   "source": [
    "data.tail()"
   ]
  },
  {
   "cell_type": "code",
   "execution_count": 6,
   "id": "1ceb40e2",
   "metadata": {},
   "outputs": [
    {
     "data": {
      "text/plain": [
       "(521, 9)"
      ]
     },
     "execution_count": 6,
     "metadata": {},
     "output_type": "execute_result"
    }
   ],
   "source": [
    "data.shape"
   ]
  },
  {
   "cell_type": "code",
   "execution_count": 7,
   "id": "35d83d09",
   "metadata": {},
   "outputs": [
    {
     "name": "stdout",
     "output_type": "stream",
     "text": [
      "<class 'pandas.core.frame.DataFrame'>\n",
      "RangeIndex: 521 entries, 0 to 520\n",
      "Data columns (total 9 columns):\n",
      " #   Column         Non-Null Count  Dtype  \n",
      "---  ------         --------------  -----  \n",
      " 0   Unnamed: 0     521 non-null    int64  \n",
      " 1   Brand me       521 non-null    object \n",
      " 2   Ratings        521 non-null    float64\n",
      " 3   RAM            521 non-null    int64  \n",
      " 4   Mobile_Size    521 non-null    float64\n",
      " 5   Primary_Cam    521 non-null    int64  \n",
      " 6   Selfi_Cam      521 non-null    int64  \n",
      " 7   Battery_Power  521 non-null    int64  \n",
      " 8   Price          521 non-null    int64  \n",
      "dtypes: float64(2), int64(6), object(1)\n",
      "memory usage: 36.8+ KB\n"
     ]
    }
   ],
   "source": [
    "data.info()"
   ]
  },
  {
   "cell_type": "code",
   "execution_count": 8,
   "id": "1dde16ed",
   "metadata": {},
   "outputs": [
    {
     "data": {
      "text/html": [
       "<div>\n",
       "<style scoped>\n",
       "    .dataframe tbody tr th:only-of-type {\n",
       "        vertical-align: middle;\n",
       "    }\n",
       "\n",
       "    .dataframe tbody tr th {\n",
       "        vertical-align: top;\n",
       "    }\n",
       "\n",
       "    .dataframe thead th {\n",
       "        text-align: right;\n",
       "    }\n",
       "</style>\n",
       "<table border=\"1\" class=\"dataframe\">\n",
       "  <thead>\n",
       "    <tr style=\"text-align: right;\">\n",
       "      <th></th>\n",
       "      <th>RAM</th>\n",
       "      <th>Mobile_Size</th>\n",
       "      <th>Primary_Cam</th>\n",
       "      <th>Selfi_Cam</th>\n",
       "      <th>Battery_Power</th>\n",
       "      <th>Price</th>\n",
       "    </tr>\n",
       "  </thead>\n",
       "  <tbody>\n",
       "    <tr>\n",
       "      <th>count</th>\n",
       "      <td>521.000000</td>\n",
       "      <td>521.000000</td>\n",
       "      <td>521.000000</td>\n",
       "      <td>521.000000</td>\n",
       "      <td>521.000000</td>\n",
       "      <td>521.000000</td>\n",
       "    </tr>\n",
       "    <tr>\n",
       "      <th>mean</th>\n",
       "      <td>5.725528</td>\n",
       "      <td>5.603512</td>\n",
       "      <td>46.525912</td>\n",
       "      <td>9.543186</td>\n",
       "      <td>3517.562380</td>\n",
       "      <td>22509.343570</td>\n",
       "    </tr>\n",
       "    <tr>\n",
       "      <th>std</th>\n",
       "      <td>1.854180</td>\n",
       "      <td>0.898864</td>\n",
       "      <td>10.094543</td>\n",
       "      <td>6.433876</td>\n",
       "      <td>876.863021</td>\n",
       "      <td>43158.655558</td>\n",
       "    </tr>\n",
       "    <tr>\n",
       "      <th>min</th>\n",
       "      <td>1.000000</td>\n",
       "      <td>3.700000</td>\n",
       "      <td>5.000000</td>\n",
       "      <td>0.000000</td>\n",
       "      <td>1020.000000</td>\n",
       "      <td>479.000000</td>\n",
       "    </tr>\n",
       "    <tr>\n",
       "      <th>25%</th>\n",
       "      <td>4.000000</td>\n",
       "      <td>4.540000</td>\n",
       "      <td>38.000000</td>\n",
       "      <td>5.000000</td>\n",
       "      <td>3000.000000</td>\n",
       "      <td>1280.000000</td>\n",
       "    </tr>\n",
       "    <tr>\n",
       "      <th>50%</th>\n",
       "      <td>6.000000</td>\n",
       "      <td>5.990000</td>\n",
       "      <td>48.000000</td>\n",
       "      <td>8.000000</td>\n",
       "      <td>3500.000000</td>\n",
       "      <td>14995.000000</td>\n",
       "    </tr>\n",
       "    <tr>\n",
       "      <th>75%</th>\n",
       "      <td>8.000000</td>\n",
       "      <td>6.400000</td>\n",
       "      <td>48.000000</td>\n",
       "      <td>13.000000</td>\n",
       "      <td>4020.000000</td>\n",
       "      <td>29499.000000</td>\n",
       "    </tr>\n",
       "    <tr>\n",
       "      <th>max</th>\n",
       "      <td>10.000000</td>\n",
       "      <td>6.700000</td>\n",
       "      <td>64.000000</td>\n",
       "      <td>61.000000</td>\n",
       "      <td>6000.000000</td>\n",
       "      <td>563000.000000</td>\n",
       "    </tr>\n",
       "  </tbody>\n",
       "</table>\n",
       "</div>"
      ],
      "text/plain": [
       "              RAM  Mobile_Size  Primary_Cam   Selfi_Cam  Battery_Power  \\\n",
       "count  521.000000   521.000000   521.000000  521.000000     521.000000   \n",
       "mean     5.725528     5.603512    46.525912    9.543186    3517.562380   \n",
       "std      1.854180     0.898864    10.094543    6.433876     876.863021   \n",
       "min      1.000000     3.700000     5.000000    0.000000    1020.000000   \n",
       "25%      4.000000     4.540000    38.000000    5.000000    3000.000000   \n",
       "50%      6.000000     5.990000    48.000000    8.000000    3500.000000   \n",
       "75%      8.000000     6.400000    48.000000   13.000000    4020.000000   \n",
       "max     10.000000     6.700000    64.000000   61.000000    6000.000000   \n",
       "\n",
       "               Price  \n",
       "count     521.000000  \n",
       "mean    22509.343570  \n",
       "std     43158.655558  \n",
       "min       479.000000  \n",
       "25%      1280.000000  \n",
       "50%     14995.000000  \n",
       "75%     29499.000000  \n",
       "max    563000.000000  "
      ]
     },
     "execution_count": 8,
     "metadata": {},
     "output_type": "execute_result"
    }
   ],
   "source": [
    "data = data.drop('Unnamed: 0',axis=1)\n",
    "data = data.drop('Ratings',axis=1)\n",
    "data.describe()\n"
   ]
  },
  {
   "cell_type": "code",
   "execution_count": 9,
   "id": "2f5bf324",
   "metadata": {},
   "outputs": [
    {
     "name": "stderr",
     "output_type": "stream",
     "text": [
      "c:\\users\\dell\\appdata\\local\\programs\\python\\python36\\lib\\site-packages\\seaborn\\distributions.py:2619: FutureWarning: `distplot` is a deprecated function and will be removed in a future version. Please adapt your code to use either `displot` (a figure-level function with similar flexibility) or `histplot` (an axes-level function for histograms).\n",
      "  warnings.warn(msg, FutureWarning)\n"
     ]
    },
    {
     "data": {
      "text/plain": [
       "<AxesSubplot:xlabel='Price', ylabel='Density'>"
      ]
     },
     "execution_count": 9,
     "metadata": {},
     "output_type": "execute_result"
    },
    {
     "data": {
      "image/png": "[encoded data removed]",
      "text/plain": [
       "<Figure size 432x288 with 1 Axes>"
      ]
     },
     "metadata": {
      "needs_background": "light"
     },
     "output_type": "display_data"
    }
   ],
   "source": [
    "#checking the distribution of price\n",
    "sns.distplot(data['Price'],color='green')\n"
   ]
  },
  {
   "cell_type": "code",
   "execution_count": 10,
   "id": "820279a7",
   "metadata": {},
   "outputs": [],
   "source": [
    "encoder = OneHotEncoder(drop='first')  # drop='first' to avoid multicollinearity\n",
    "encoded_brands = encoder.fit_transform(data[['Brand me']]).toarray()"
   ]
  },
  {
   "cell_type": "code",
   "execution_count": 11,
   "id": "c04f04a4",
   "metadata": {},
   "outputs": [],
   "source": [
    "encoded_brands_df = pd.DataFrame(encoded_brands, columns=encoder.get_feature_names(['Brand me']))\n",
    "data_encoded = pd.concat([data.drop('Brand me', axis=1), encoded_brands_df], axis=1)"
   ]
  },
  {
   "cell_type": "code",
   "execution_count": 12,
   "id": "faff8e07",
   "metadata": {},
   "outputs": [],
   "source": [
    "X = data_encoded.drop('Price', axis=1)\n",
    "Y = data_encoded['Price']"
   ]
  },
  {
   "cell_type": "code",
   "execution_count": 13,
   "id": "f2cf1a25",
   "metadata": {},
   "outputs": [
    {
     "name": "stdout",
     "output_type": "stream",
     "text": [
      "     RAM  Mobile_Size  Primary_Cam  Selfi_Cam  Battery_Power  Brand me_Apple  \\\n",
      "0      4         6.00           48         13           4000             0.0   \n",
      "1      6         4.50           48         12           4000             0.0   \n",
      "2      4         4.50           64         16           4000             0.0   \n",
      "3      6         6.40           48         15           3800             0.0   \n",
      "4      6         6.18           35         15           3800             0.0   \n",
      "..   ...          ...          ...        ...            ...             ...   \n",
      "516    4         6.20           35          8           3500             0.0   \n",
      "517    6         6.39           48         12           3800             0.0   \n",
      "518    6         4.54           48         12           2800             0.0   \n",
      "519    3         6.20           48          1           3800             0.0   \n",
      "520    6         4.50           64         15           1050             0.0   \n",
      "\n",
      "     Brand me_Blacear  Brand me_Blacerry  Brand me_Black  Brand me_BlackZone  \\\n",
      "0                 0.0                0.0             0.0                 0.0   \n",
      "1                 0.0                0.0             0.0                 0.0   \n",
      "2                 0.0                0.0             0.0                 0.0   \n",
      "3                 0.0                0.0             0.0                 0.0   \n",
      "4                 0.0                0.0             0.0                 0.0   \n",
      "..                ...                ...             ...                 ...   \n",
      "516               0.0                0.0             0.0                 0.0   \n",
      "517               0.0                0.0             1.0                 0.0   \n",
      "518               0.0                0.0             0.0                 0.0   \n",
      "519               0.0                0.0             0.0                 0.0   \n",
      "520               1.0                0.0             0.0                 0.0   \n",
      "\n",
      "     ...  Brand me_Q-Tel  Brand me_Realme  Brand me_Redmi  Brand me_Salora  \\\n",
      "0    ...             0.0              0.0             0.0              0.0   \n",
      "1    ...             0.0              0.0             0.0              0.0   \n",
      "2    ...             0.0              0.0             0.0              0.0   \n",
      "3    ...             0.0              0.0             0.0              0.0   \n",
      "4    ...             0.0              0.0             0.0              0.0   \n",
      "..   ...             ...              ...             ...              ...   \n",
      "516  ...             0.0              0.0             0.0              0.0   \n",
      "517  ...             0.0              0.0             0.0              0.0   \n",
      "518  ...             0.0              0.0             0.0              0.0   \n",
      "519  ...             0.0              0.0             0.0              0.0   \n",
      "520  ...             0.0              0.0             0.0              0.0   \n",
      "\n",
      "     Brand me_Samsung  Brand me_Ssky  Brand me_Tecno  Brand me_Tork  \\\n",
      "0                 0.0            0.0             0.0            0.0   \n",
      "1                 0.0            0.0             0.0            0.0   \n",
      "2                 0.0            0.0             0.0            0.0   \n",
      "3                 1.0            0.0             0.0            0.0   \n",
      "4                 0.0            0.0             0.0            0.0   \n",
      "..                ...            ...             ...            ...   \n",
      "516               1.0            0.0             0.0            0.0   \n",
      "517               0.0            0.0             0.0            0.0   \n",
      "518               0.0            0.0             0.0            0.0   \n",
      "519               0.0            0.0             0.0            0.0   \n",
      "520               0.0            0.0             0.0            0.0   \n",
      "\n",
      "     Brand me_Vivo  Brand me_iQOO  \n",
      "0              0.0            0.0  \n",
      "1              0.0            0.0  \n",
      "2              0.0            0.0  \n",
      "3              0.0            0.0  \n",
      "4              0.0            0.0  \n",
      "..             ...            ...  \n",
      "516            0.0            0.0  \n",
      "517            0.0            0.0  \n",
      "518            0.0            0.0  \n",
      "519            0.0            0.0  \n",
      "520            0.0            0.0  \n",
      "\n",
      "[521 rows x 58 columns]\n"
     ]
    }
   ],
   "source": [
    "print(X)"
   ]
  },
  {
   "cell_type": "code",
   "execution_count": 14,
   "id": "0ac2f8f2",
   "metadata": {},
   "outputs": [
    {
     "name": "stdout",
     "output_type": "stream",
     "text": [
      "0      24999\n",
      "1      15999\n",
      "2      15000\n",
      "3      18999\n",
      "4      18999\n",
      "       ...  \n",
      "516    53990\n",
      "517    31999\n",
      "518     1299\n",
      "519     9790\n",
      "520      799\n",
      "Name: Price, Length: 521, dtype: int64\n"
     ]
    }
   ],
   "source": [
    "print(Y)"
   ]
  },
  {
   "cell_type": "code",
   "execution_count": 15,
   "id": "008fcb52",
   "metadata": {},
   "outputs": [],
   "source": [
    "X_train, X_test, Y_train, Y_test = train_test_split(X, Y, test_size=0.2, random_state=42)"
   ]
  },
  {
   "cell_type": "code",
   "execution_count": 16,
   "id": "efb44ce2",
   "metadata": {},
   "outputs": [],
   "source": [
    "model = RandomForestRegressor(n_estimators=100, random_state=42)"
   ]
  },
  {
   "cell_type": "code",
   "execution_count": 17,
   "id": "31b1a74e",
   "metadata": {},
   "outputs": [
    {
     "data": {
      "text/plain": [
       "RandomForestRegressor(random_state=42)"
      ]
     },
     "execution_count": 17,
     "metadata": {},
     "output_type": "execute_result"
    }
   ],
   "source": [
    "model.fit(X_train, Y_train)"
   ]
  },
  {
   "cell_type": "code",
   "execution_count": 18,
   "id": "6d44e4fc",
   "metadata": {},
   "outputs": [],
   "source": [
    "Y_pred = model.predict(X_test)"
   ]
  },
  {
   "cell_type": "code",
   "execution_count": 19,
   "id": "4733f606",
   "metadata": {},
   "outputs": [
    {
     "name": "stdout",
     "output_type": "stream",
     "text": [
      "R-squared: 0.8324396870153797\n"
     ]
    }
   ],
   "source": [
    "r2 = r2_score(Y_test, Y_pred)\n",
    "print(f'R-squared: {r2}')"
   ]
  },
  {
   "cell_type": "code",
   "execution_count": 20,
   "id": "a80c135d",
   "metadata": {},
   "outputs": [],
   "source": [
    "scores = []\n",
    "\n",
    "# Loop for multiple random states\n",
    "for i in range(100):\n",
    "    # Split the data\n",
    "    X_train, X_test, Y_train, Y_test = train_test_split(X, Y, test_size=0.2, random_state=i)\n",
    "    \n",
    "    # Column transformer with StandardScaler\n",
    "    column_trans = make_column_transformer((StandardScaler(), X.columns), remainder='passthrough')\n",
    "    \n",
    "    # RandomForestRegressor\n",
    "    rf = RandomForestRegressor(random_state=i)\n",
    "    \n",
    "    # Pipeline\n",
    "    pipe = make_pipeline(column_trans, rf)\n",
    "    \n",
    "    # Train the model\n",
    "    pipe.fit(X_train, Y_train)\n",
    "    \n",
    "    # Make predictions\n",
    "    Y_pred = pipe.predict(X_test)\n",
    "    \n",
    "    # Append the r2 score to the list\n",
    "    scores.append(r2_score(Y_test, Y_pred))"
   ]
  },
  {
   "cell_type": "code",
   "execution_count": 21,
   "id": "bc88af19",
   "metadata": {},
   "outputs": [
    {
     "data": {
      "text/plain": [
       "35"
      ]
     },
     "execution_count": 21,
     "metadata": {},
     "output_type": "execute_result"
    }
   ],
   "source": [
    "np.argmax(scores)"
   ]
  },
  {
   "cell_type": "code",
   "execution_count": 22,
   "id": "7b57c9de",
   "metadata": {},
   "outputs": [
    {
     "data": {
      "text/plain": [
       "0.9734490561262253"
      ]
     },
     "execution_count": 22,
     "metadata": {},
     "output_type": "execute_result"
    }
   ],
   "source": [
    "scores[np.argmax(scores)]"
   ]
  },
  {
   "cell_type": "code",
   "execution_count": null,
   "id": "8c6d5892",
   "metadata": {},
   "outputs": [],
   "source": []
  }
 ],
 "metadata": {
  "kernelspec": {
   "display_name": "Python 3 (ipykernel)",
   "language": "python",
   "name": "python3"
  },
  "language_info": {
   "codemirror_mode": {
    "name": "ipython",
    "version": 3
   },
   "file_extension": ".py",
   "mimetype": "text/x-python",
   "name": "python",
   "nbconvert_exporter": "python",
   "pygments_lexer": "ipython3",
   "version": "3.12.3"
  }
 },
 "nbformat": 4,
 "nbformat_minor": 5
}
