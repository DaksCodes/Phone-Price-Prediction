{
 "cells": [
  {
   "cell_type": "code",
   "execution_count": 1,
   "id": "6c141e9e-3edc-4427-958b-7946788ce962",
   "metadata": {},
   "outputs": [],
   "source": [
    "import numpy as np\n",
    "import pandas as pd\n",
    "import matplotlib.pyplot as plt\n",
    "import seaborn as sns"
   ]
  },
  {
   "cell_type": "code",
   "execution_count": 2,
   "id": "f82c9a83-dfe0-4ffd-9e35-2424c393819e",
   "metadata": {},
   "outputs": [],
   "source": [
    "phone=pd.read_csv(\"C:\\\\Users\\\\adaks\\\\AppData\\\\Local\\\\Programs\\\\Python\\\\Python312\\\\Scripts\\\\Phone Price Prediction\\\\Phone_Price_dataset.csv\")"
   ]
  },
  {
   "cell_type": "code",
   "execution_count": 3,
   "id": "2c302d2a-10d3-4653-93d4-e15a563164d0",
   "metadata": {},
   "outputs": [
    {
     "data": {
      "text/html": [
       "<div>\n",
       "<style scoped>\n",
       "    .dataframe tbody tr th:only-of-type {\n",
       "        vertical-align: middle;\n",
       "    }\n",
       "\n",
       "    .dataframe tbody tr th {\n",
       "        vertical-align: top;\n",
       "    }\n",
       "\n",
       "    .dataframe thead th {\n",
       "        text-align: right;\n",
       "    }\n",
       "</style>\n",
       "<table border=\"1\" class=\"dataframe\">\n",
       "  <thead>\n",
       "    <tr style=\"text-align: right;\">\n",
       "      <th></th>\n",
       "      <th>Unnamed: 0</th>\n",
       "      <th>Brand me</th>\n",
       "      <th>Ratings</th>\n",
       "      <th>RAM</th>\n",
       "      <th>ROM</th>\n",
       "      <th>Mobile_Size</th>\n",
       "      <th>Primary_Cam</th>\n",
       "      <th>Selfi_Cam</th>\n",
       "      <th>Battery_Power</th>\n",
       "      <th>Price</th>\n",
       "    </tr>\n",
       "  </thead>\n",
       "  <tbody>\n",
       "    <tr>\n",
       "      <th>0</th>\n",
       "      <td>0</td>\n",
       "      <td>LG V30+ (Black, 128 )</td>\n",
       "      <td>4.3</td>\n",
       "      <td>4.0</td>\n",
       "      <td>128.0</td>\n",
       "      <td>6.00</td>\n",
       "      <td>48</td>\n",
       "      <td>13.0</td>\n",
       "      <td>4000</td>\n",
       "      <td>24999</td>\n",
       "    </tr>\n",
       "    <tr>\n",
       "      <th>1</th>\n",
       "      <td>1</td>\n",
       "      <td>I Kall K11</td>\n",
       "      <td>3.4</td>\n",
       "      <td>6.0</td>\n",
       "      <td>64.0</td>\n",
       "      <td>4.50</td>\n",
       "      <td>48</td>\n",
       "      <td>12.0</td>\n",
       "      <td>4000</td>\n",
       "      <td>15999</td>\n",
       "    </tr>\n",
       "    <tr>\n",
       "      <th>2</th>\n",
       "      <td>2</td>\n",
       "      <td>Nokia 105 ss</td>\n",
       "      <td>4.3</td>\n",
       "      <td>4.0</td>\n",
       "      <td>4.0</td>\n",
       "      <td>4.50</td>\n",
       "      <td>64</td>\n",
       "      <td>16.0</td>\n",
       "      <td>4000</td>\n",
       "      <td>15000</td>\n",
       "    </tr>\n",
       "    <tr>\n",
       "      <th>3</th>\n",
       "      <td>3</td>\n",
       "      <td>Samsung Galaxy A50 (White, 64 )</td>\n",
       "      <td>4.4</td>\n",
       "      <td>6.0</td>\n",
       "      <td>64.0</td>\n",
       "      <td>6.40</td>\n",
       "      <td>48</td>\n",
       "      <td>15.0</td>\n",
       "      <td>3800</td>\n",
       "      <td>18999</td>\n",
       "    </tr>\n",
       "    <tr>\n",
       "      <th>4</th>\n",
       "      <td>4</td>\n",
       "      <td>POCO F1 (Steel Blue, 128 )</td>\n",
       "      <td>4.5</td>\n",
       "      <td>6.0</td>\n",
       "      <td>128.0</td>\n",
       "      <td>6.18</td>\n",
       "      <td>35</td>\n",
       "      <td>15.0</td>\n",
       "      <td>3800</td>\n",
       "      <td>18999</td>\n",
       "    </tr>\n",
       "  </tbody>\n",
       "</table>\n",
       "</div>"
      ],
      "text/plain": [
       "   Unnamed: 0                         Brand me  Ratings  RAM    ROM  \\\n",
       "0           0            LG V30+ (Black, 128 )      4.3  4.0  128.0   \n",
       "1           1                       I Kall K11      3.4  6.0   64.0   \n",
       "2           2                     Nokia 105 ss      4.3  4.0    4.0   \n",
       "3           3  Samsung Galaxy A50 (White, 64 )      4.4  6.0   64.0   \n",
       "4           4       POCO F1 (Steel Blue, 128 )      4.5  6.0  128.0   \n",
       "\n",
       "   Mobile_Size  Primary_Cam  Selfi_Cam  Battery_Power  Price  \n",
       "0         6.00           48       13.0           4000  24999  \n",
       "1         4.50           48       12.0           4000  15999  \n",
       "2         4.50           64       16.0           4000  15000  \n",
       "3         6.40           48       15.0           3800  18999  \n",
       "4         6.18           35       15.0           3800  18999  "
      ]
     },
     "execution_count": 3,
     "metadata": {},
     "output_type": "execute_result"
    }
   ],
   "source": [
    "phone.head()"
   ]
  },
  {
   "cell_type": "code",
   "execution_count": 4,
   "id": "0a9e1939-3e5c-420c-acd1-a5248cecdce8",
   "metadata": {},
   "outputs": [
    {
     "data": {
      "text/plain": [
       "(836, 10)"
      ]
     },
     "execution_count": 4,
     "metadata": {},
     "output_type": "execute_result"
    }
   ],
   "source": [
    "phone.shape"
   ]
  },
  {
   "cell_type": "code",
   "execution_count": 5,
   "id": "d219c576-7289-4137-8e6d-74f09facfb63",
   "metadata": {},
   "outputs": [
    {
     "data": {
      "text/html": [
       "<div>\n",
       "<style scoped>\n",
       "    .dataframe tbody tr th:only-of-type {\n",
       "        vertical-align: middle;\n",
       "    }\n",
       "\n",
       "    .dataframe tbody tr th {\n",
       "        vertical-align: top;\n",
       "    }\n",
       "\n",
       "    .dataframe thead th {\n",
       "        text-align: right;\n",
       "    }\n",
       "</style>\n",
       "<table border=\"1\" class=\"dataframe\">\n",
       "  <thead>\n",
       "    <tr style=\"text-align: right;\">\n",
       "      <th></th>\n",
       "      <th>Unnamed: 0</th>\n",
       "      <th>Ratings</th>\n",
       "      <th>RAM</th>\n",
       "      <th>ROM</th>\n",
       "      <th>Mobile_Size</th>\n",
       "      <th>Primary_Cam</th>\n",
       "      <th>Selfi_Cam</th>\n",
       "      <th>Battery_Power</th>\n",
       "      <th>Price</th>\n",
       "    </tr>\n",
       "  </thead>\n",
       "  <tbody>\n",
       "    <tr>\n",
       "      <th>count</th>\n",
       "      <td>836.000000</td>\n",
       "      <td>805.000000</td>\n",
       "      <td>829.000000</td>\n",
       "      <td>832.000000</td>\n",
       "      <td>834.000000</td>\n",
       "      <td>836.000000</td>\n",
       "      <td>567.000000</td>\n",
       "      <td>836.000000</td>\n",
       "      <td>836.00000</td>\n",
       "    </tr>\n",
       "    <tr>\n",
       "      <th>mean</th>\n",
       "      <td>417.500000</td>\n",
       "      <td>4.103106</td>\n",
       "      <td>6.066345</td>\n",
       "      <td>64.373077</td>\n",
       "      <td>5.597282</td>\n",
       "      <td>47.983254</td>\n",
       "      <td>9.784832</td>\n",
       "      <td>3274.688995</td>\n",
       "      <td>18220.34689</td>\n",
       "    </tr>\n",
       "    <tr>\n",
       "      <th>std</th>\n",
       "      <td>241.476707</td>\n",
       "      <td>0.365356</td>\n",
       "      <td>2.530336</td>\n",
       "      <td>53.447825</td>\n",
       "      <td>3.898664</td>\n",
       "      <td>11.170093</td>\n",
       "      <td>6.503838</td>\n",
       "      <td>927.518852</td>\n",
       "      <td>52805.55022</td>\n",
       "    </tr>\n",
       "    <tr>\n",
       "      <th>min</th>\n",
       "      <td>0.000000</td>\n",
       "      <td>2.800000</td>\n",
       "      <td>0.000000</td>\n",
       "      <td>0.000000</td>\n",
       "      <td>2.000000</td>\n",
       "      <td>5.000000</td>\n",
       "      <td>0.000000</td>\n",
       "      <td>1020.000000</td>\n",
       "      <td>479.00000</td>\n",
       "    </tr>\n",
       "    <tr>\n",
       "      <th>25%</th>\n",
       "      <td>208.750000</td>\n",
       "      <td>3.800000</td>\n",
       "      <td>6.000000</td>\n",
       "      <td>32.000000</td>\n",
       "      <td>4.500000</td>\n",
       "      <td>48.000000</td>\n",
       "      <td>5.000000</td>\n",
       "      <td>3000.000000</td>\n",
       "      <td>984.75000</td>\n",
       "    </tr>\n",
       "    <tr>\n",
       "      <th>50%</th>\n",
       "      <td>417.500000</td>\n",
       "      <td>4.100000</td>\n",
       "      <td>6.000000</td>\n",
       "      <td>40.000000</td>\n",
       "      <td>4.770000</td>\n",
       "      <td>48.000000</td>\n",
       "      <td>8.000000</td>\n",
       "      <td>3000.000000</td>\n",
       "      <td>1697.00000</td>\n",
       "    </tr>\n",
       "    <tr>\n",
       "      <th>75%</th>\n",
       "      <td>626.250000</td>\n",
       "      <td>4.400000</td>\n",
       "      <td>6.000000</td>\n",
       "      <td>64.000000</td>\n",
       "      <td>6.300000</td>\n",
       "      <td>48.000000</td>\n",
       "      <td>13.000000</td>\n",
       "      <td>3800.000000</td>\n",
       "      <td>18999.00000</td>\n",
       "    </tr>\n",
       "    <tr>\n",
       "      <th>max</th>\n",
       "      <td>835.000000</td>\n",
       "      <td>4.800000</td>\n",
       "      <td>34.000000</td>\n",
       "      <td>256.000000</td>\n",
       "      <td>44.000000</td>\n",
       "      <td>64.000000</td>\n",
       "      <td>61.000000</td>\n",
       "      <td>6000.000000</td>\n",
       "      <td>573000.00000</td>\n",
       "    </tr>\n",
       "  </tbody>\n",
       "</table>\n",
       "</div>"
      ],
      "text/plain": [
       "       Unnamed: 0     Ratings         RAM         ROM  Mobile_Size  \\\n",
       "count  836.000000  805.000000  829.000000  832.000000   834.000000   \n",
       "mean   417.500000    4.103106    6.066345   64.373077     5.597282   \n",
       "std    241.476707    0.365356    2.530336   53.447825     3.898664   \n",
       "min      0.000000    2.800000    0.000000    0.000000     2.000000   \n",
       "25%    208.750000    3.800000    6.000000   32.000000     4.500000   \n",
       "50%    417.500000    4.100000    6.000000   40.000000     4.770000   \n",
       "75%    626.250000    4.400000    6.000000   64.000000     6.300000   \n",
       "max    835.000000    4.800000   34.000000  256.000000    44.000000   \n",
       "\n",
       "       Primary_Cam   Selfi_Cam  Battery_Power         Price  \n",
       "count   836.000000  567.000000     836.000000     836.00000  \n",
       "mean     47.983254    9.784832    3274.688995   18220.34689  \n",
       "std      11.170093    6.503838     927.518852   52805.55022  \n",
       "min       5.000000    0.000000    1020.000000     479.00000  \n",
       "25%      48.000000    5.000000    3000.000000     984.75000  \n",
       "50%      48.000000    8.000000    3000.000000    1697.00000  \n",
       "75%      48.000000   13.000000    3800.000000   18999.00000  \n",
       "max      64.000000   61.000000    6000.000000  573000.00000  "
      ]
     },
     "execution_count": 5,
     "metadata": {},
     "output_type": "execute_result"
    }
   ],
   "source": [
    "phone.describe()"
   ]
  },
  {
   "cell_type": "code",
   "execution_count": 6,
   "id": "3f689e10-bc48-4bb7-8919-5f3eda284a25",
   "metadata": {},
   "outputs": [
    {
     "name": "stdout",
     "output_type": "stream",
     "text": [
      "<class 'pandas.core.frame.DataFrame'>\n",
      "RangeIndex: 836 entries, 0 to 835\n",
      "Data columns (total 10 columns):\n",
      " #   Column         Non-Null Count  Dtype  \n",
      "---  ------         --------------  -----  \n",
      " 0   Unnamed: 0     836 non-null    int64  \n",
      " 1   Brand me       836 non-null    object \n",
      " 2   Ratings        805 non-null    float64\n",
      " 3   RAM            829 non-null    float64\n",
      " 4   ROM            832 non-null    float64\n",
      " 5   Mobile_Size    834 non-null    float64\n",
      " 6   Primary_Cam    836 non-null    int64  \n",
      " 7   Selfi_Cam      567 non-null    float64\n",
      " 8   Battery_Power  836 non-null    int64  \n",
      " 9   Price          836 non-null    int64  \n",
      "dtypes: float64(5), int64(4), object(1)\n",
      "memory usage: 65.4+ KB\n"
     ]
    }
   ],
   "source": [
    "phone.info()"
   ]
  },
  {
   "cell_type": "code",
   "execution_count": 9,
   "id": "c51e8517-61cd-4986-baa7-eae4a7b11f59",
   "metadata": {},
   "outputs": [],
   "source": [
    "# ratings,rom,ram,mobile size,selfi cam has null\n",
    "#ram has an outlier 32 gb, >12gb is not possible\n",
    "#rom is to be dropped\n",
    "#phone size has an outlier(min=3inches,max=7inches)\n",
    "#phone price dtype change from int to float\n",
    "#selfi cam from float to int"
   ]
  },
  {
   "cell_type": "code",
   "execution_count": 10,
   "id": "4742fc69-9659-479b-94cf-c4ab5e5935c9",
   "metadata": {},
   "outputs": [],
   "source": [
    "backup=phone.copy()"
   ]
  },
  {
   "cell_type": "markdown",
   "id": "05736814-5608-4f48-a543-890df1079989",
   "metadata": {},
   "source": [
    "Ratings"
   ]
  },
  {
   "cell_type": "code",
   "execution_count": 11,
   "id": "bf8b309d-0fb3-4b4f-b7ae-40104d55f025",
   "metadata": {},
   "outputs": [],
   "source": [
    "phone = phone.dropna(subset=['Ratings'])"
   ]
  },
  {
   "cell_type": "code",
   "execution_count": 12,
   "id": "961e755e-5f8a-4b55-9322-fccd7fb96b22",
   "metadata": {},
   "outputs": [
    {
     "data": {
      "text/plain": [
       "(805, 10)"
      ]
     },
     "execution_count": 12,
     "metadata": {},
     "output_type": "execute_result"
    }
   ],
   "source": [
    "phone.shape"
   ]
  },
  {
   "cell_type": "markdown",
   "id": "fc9bd5b8-b298-4fdf-8421-9bea4271aed9",
   "metadata": {},
   "source": [
    "RAM"
   ]
  },
  {
   "cell_type": "code",
   "execution_count": 13,
   "id": "f6e0e3bc-b3a9-47b6-a07e-9cf51ff3ad8d",
   "metadata": {},
   "outputs": [
    {
     "name": "stdout",
     "output_type": "stream",
     "text": [
      "<class 'pandas.core.frame.DataFrame'>\n",
      "Index: 805 entries, 0 to 835\n",
      "Data columns (total 10 columns):\n",
      " #   Column         Non-Null Count  Dtype  \n",
      "---  ------         --------------  -----  \n",
      " 0   Unnamed: 0     805 non-null    int64  \n",
      " 1   Brand me       805 non-null    object \n",
      " 2   Ratings        805 non-null    float64\n",
      " 3   RAM            798 non-null    float64\n",
      " 4   ROM            801 non-null    float64\n",
      " 5   Mobile_Size    803 non-null    float64\n",
      " 6   Primary_Cam    805 non-null    int64  \n",
      " 7   Selfi_Cam      554 non-null    float64\n",
      " 8   Battery_Power  805 non-null    int64  \n",
      " 9   Price          805 non-null    int64  \n",
      "dtypes: float64(5), int64(4), object(1)\n",
      "memory usage: 69.2+ KB\n"
     ]
    }
   ],
   "source": [
    "phone.info()"
   ]
  },
  {
   "cell_type": "code",
   "execution_count": 14,
   "id": "946df49a-f1b1-40d4-8c2a-56e5afa9943c",
   "metadata": {},
   "outputs": [],
   "source": [
    "phone = phone.dropna(subset=['RAM'])"
   ]
  },
  {
   "cell_type": "code",
   "execution_count": 15,
   "id": "a05d4621-caa0-473a-83d9-5ba46cb9ec72",
   "metadata": {},
   "outputs": [
    {
     "data": {
      "text/plain": [
       "(798, 10)"
      ]
     },
     "execution_count": 15,
     "metadata": {},
     "output_type": "execute_result"
    }
   ],
   "source": [
    "phone.shape"
   ]
  },
  {
   "cell_type": "code",
   "execution_count": 16,
   "id": "b0c2707a-e8d7-4cf8-baf6-e5e12e095d9f",
   "metadata": {},
   "outputs": [
    {
     "data": {
      "text/html": [
       "<div>\n",
       "<style scoped>\n",
       "    .dataframe tbody tr th:only-of-type {\n",
       "        vertical-align: middle;\n",
       "    }\n",
       "\n",
       "    .dataframe tbody tr th {\n",
       "        vertical-align: top;\n",
       "    }\n",
       "\n",
       "    .dataframe thead th {\n",
       "        text-align: right;\n",
       "    }\n",
       "</style>\n",
       "<table border=\"1\" class=\"dataframe\">\n",
       "  <thead>\n",
       "    <tr style=\"text-align: right;\">\n",
       "      <th></th>\n",
       "      <th>Unnamed: 0</th>\n",
       "      <th>Ratings</th>\n",
       "      <th>RAM</th>\n",
       "      <th>ROM</th>\n",
       "      <th>Mobile_Size</th>\n",
       "      <th>Primary_Cam</th>\n",
       "      <th>Selfi_Cam</th>\n",
       "      <th>Battery_Power</th>\n",
       "      <th>Price</th>\n",
       "    </tr>\n",
       "  </thead>\n",
       "  <tbody>\n",
       "    <tr>\n",
       "      <th>count</th>\n",
       "      <td>798.000000</td>\n",
       "      <td>798.000000</td>\n",
       "      <td>798.000000</td>\n",
       "      <td>794.000000</td>\n",
       "      <td>796.000000</td>\n",
       "      <td>798.000000</td>\n",
       "      <td>551.000000</td>\n",
       "      <td>798.000000</td>\n",
       "      <td>798.000000</td>\n",
       "    </tr>\n",
       "    <tr>\n",
       "      <th>mean</th>\n",
       "      <td>419.192982</td>\n",
       "      <td>4.101629</td>\n",
       "      <td>6.073935</td>\n",
       "      <td>65.385894</td>\n",
       "      <td>5.643433</td>\n",
       "      <td>47.997494</td>\n",
       "      <td>9.607985</td>\n",
       "      <td>3290.250627</td>\n",
       "      <td>18967.000000</td>\n",
       "    </tr>\n",
       "    <tr>\n",
       "      <th>std</th>\n",
       "      <td>240.931589</td>\n",
       "      <td>0.366557</td>\n",
       "      <td>2.555442</td>\n",
       "      <td>54.212876</td>\n",
       "      <td>3.982219</td>\n",
       "      <td>10.552848</td>\n",
       "      <td>6.330780</td>\n",
       "      <td>929.739578</td>\n",
       "      <td>53924.825844</td>\n",
       "    </tr>\n",
       "    <tr>\n",
       "      <th>min</th>\n",
       "      <td>0.000000</td>\n",
       "      <td>2.800000</td>\n",
       "      <td>0.000000</td>\n",
       "      <td>0.000000</td>\n",
       "      <td>2.000000</td>\n",
       "      <td>5.000000</td>\n",
       "      <td>0.000000</td>\n",
       "      <td>1020.000000</td>\n",
       "      <td>479.000000</td>\n",
       "    </tr>\n",
       "    <tr>\n",
       "      <th>25%</th>\n",
       "      <td>211.250000</td>\n",
       "      <td>3.800000</td>\n",
       "      <td>6.000000</td>\n",
       "      <td>32.000000</td>\n",
       "      <td>4.500000</td>\n",
       "      <td>48.000000</td>\n",
       "      <td>5.000000</td>\n",
       "      <td>3000.000000</td>\n",
       "      <td>991.250000</td>\n",
       "    </tr>\n",
       "    <tr>\n",
       "      <th>50%</th>\n",
       "      <td>417.500000</td>\n",
       "      <td>4.100000</td>\n",
       "      <td>6.000000</td>\n",
       "      <td>64.000000</td>\n",
       "      <td>4.770000</td>\n",
       "      <td>48.000000</td>\n",
       "      <td>8.000000</td>\n",
       "      <td>3000.000000</td>\n",
       "      <td>1799.000000</td>\n",
       "    </tr>\n",
       "    <tr>\n",
       "      <th>75%</th>\n",
       "      <td>629.750000</td>\n",
       "      <td>4.400000</td>\n",
       "      <td>6.000000</td>\n",
       "      <td>64.000000</td>\n",
       "      <td>6.300000</td>\n",
       "      <td>48.000000</td>\n",
       "      <td>13.000000</td>\n",
       "      <td>3800.000000</td>\n",
       "      <td>18999.000000</td>\n",
       "    </tr>\n",
       "    <tr>\n",
       "      <th>max</th>\n",
       "      <td>835.000000</td>\n",
       "      <td>4.800000</td>\n",
       "      <td>34.000000</td>\n",
       "      <td>256.000000</td>\n",
       "      <td>44.000000</td>\n",
       "      <td>64.000000</td>\n",
       "      <td>61.000000</td>\n",
       "      <td>6000.000000</td>\n",
       "      <td>573000.000000</td>\n",
       "    </tr>\n",
       "  </tbody>\n",
       "</table>\n",
       "</div>"
      ],
      "text/plain": [
       "       Unnamed: 0     Ratings         RAM         ROM  Mobile_Size  \\\n",
       "count  798.000000  798.000000  798.000000  794.000000   796.000000   \n",
       "mean   419.192982    4.101629    6.073935   65.385894     5.643433   \n",
       "std    240.931589    0.366557    2.555442   54.212876     3.982219   \n",
       "min      0.000000    2.800000    0.000000    0.000000     2.000000   \n",
       "25%    211.250000    3.800000    6.000000   32.000000     4.500000   \n",
       "50%    417.500000    4.100000    6.000000   64.000000     4.770000   \n",
       "75%    629.750000    4.400000    6.000000   64.000000     6.300000   \n",
       "max    835.000000    4.800000   34.000000  256.000000    44.000000   \n",
       "\n",
       "       Primary_Cam   Selfi_Cam  Battery_Power          Price  \n",
       "count   798.000000  551.000000     798.000000     798.000000  \n",
       "mean     47.997494    9.607985    3290.250627   18967.000000  \n",
       "std      10.552848    6.330780     929.739578   53924.825844  \n",
       "min       5.000000    0.000000    1020.000000     479.000000  \n",
       "25%      48.000000    5.000000    3000.000000     991.250000  \n",
       "50%      48.000000    8.000000    3000.000000    1799.000000  \n",
       "75%      48.000000   13.000000    3800.000000   18999.000000  \n",
       "max      64.000000   61.000000    6000.000000  573000.000000  "
      ]
     },
     "execution_count": 16,
     "metadata": {},
     "output_type": "execute_result"
    }
   ],
   "source": [
    "phone.describe()"
   ]
  },
  {
   "cell_type": "code",
   "execution_count": 17,
   "id": "0a3820fa-2962-40bc-bb0f-26464a1bb9d1",
   "metadata": {},
   "outputs": [],
   "source": [
    "#Considering the upper limit of RAM to be 12GB"
   ]
  },
  {
   "cell_type": "code",
   "execution_count": 21,
   "id": "1a32ac68-54a0-4332-be4d-309afaf76e09",
   "metadata": {},
   "outputs": [],
   "source": [
    "phone=phone[phone['RAM']<12.000000]"
   ]
  },
  {
   "cell_type": "code",
   "execution_count": 22,
   "id": "69d6bb56-eb25-46c3-be2c-55fbd75dadd4",
   "metadata": {},
   "outputs": [
    {
     "data": {
      "text/plain": [
       "(0, 10)"
      ]
     },
     "execution_count": 22,
     "metadata": {},
     "output_type": "execute_result"
    }
   ],
   "source": [
    "phone.shape"
   ]
  },
  {
   "cell_type": "code",
   "execution_count": 23,
   "id": "d3c4a2c6-9838-426d-9bbd-108ac69508c7",
   "metadata": {},
   "outputs": [
    {
     "data": {
      "text/plain": [
       "(836, 10)"
      ]
     },
     "execution_count": 23,
     "metadata": {},
     "output_type": "execute_result"
    }
   ],
   "source": [
    "backup.shape"
   ]
  },
  {
   "cell_type": "code",
   "execution_count": 24,
   "id": "2d09e972-842e-4680-896b-544b552d0596",
   "metadata": {},
   "outputs": [],
   "source": [
    "Phone=backup.copy()"
   ]
  },
  {
   "cell_type": "markdown",
   "id": "87680d6b-532c-40f5-ba1c-5fa21943e2d4",
   "metadata": {},
   "source": [
    "Ratings"
   ]
  },
  {
   "cell_type": "code",
   "execution_count": 25,
   "id": "ac7a4236-0155-44a8-81d4-55a64ec4168c",
   "metadata": {},
   "outputs": [],
   "source": [
    "Phone = Phone.dropna(subset=['Ratings'])"
   ]
  },
  {
   "cell_type": "code",
   "execution_count": 26,
   "id": "fbcc2bc9-6f6f-4315-9626-6efb2fbee930",
   "metadata": {},
   "outputs": [
    {
     "data": {
      "text/plain": [
       "(805, 10)"
      ]
     },
     "execution_count": 26,
     "metadata": {},
     "output_type": "execute_result"
    }
   ],
   "source": [
    "Phone.shape"
   ]
  },
  {
   "cell_type": "markdown",
   "id": "ee6e1799-8aab-4514-9b1c-849b837471a7",
   "metadata": {},
   "source": [
    "RAM"
   ]
  },
  {
   "cell_type": "code",
   "execution_count": 27,
   "id": "f8072aa8-d3fb-45a0-8033-753a5bea5fd6",
   "metadata": {},
   "outputs": [
    {
     "name": "stdout",
     "output_type": "stream",
     "text": [
      "<class 'pandas.core.frame.DataFrame'>\n",
      "Index: 805 entries, 0 to 835\n",
      "Data columns (total 10 columns):\n",
      " #   Column         Non-Null Count  Dtype  \n",
      "---  ------         --------------  -----  \n",
      " 0   Unnamed: 0     805 non-null    int64  \n",
      " 1   Brand me       805 non-null    object \n",
      " 2   Ratings        805 non-null    float64\n",
      " 3   RAM            798 non-null    float64\n",
      " 4   ROM            801 non-null    float64\n",
      " 5   Mobile_Size    803 non-null    float64\n",
      " 6   Primary_Cam    805 non-null    int64  \n",
      " 7   Selfi_Cam      554 non-null    float64\n",
      " 8   Battery_Power  805 non-null    int64  \n",
      " 9   Price          805 non-null    int64  \n",
      "dtypes: float64(5), int64(4), object(1)\n",
      "memory usage: 69.2+ KB\n"
     ]
    }
   ],
   "source": [
    "Phone.info()"
   ]
  },
  {
   "cell_type": "code",
   "execution_count": 28,
   "id": "25330df2-a3ec-445d-93f9-94e31acfeacd",
   "metadata": {},
   "outputs": [],
   "source": [
    "Phone = Phone.dropna(subset=['RAM'])"
   ]
  },
  {
   "cell_type": "code",
   "execution_count": 29,
   "id": "e47524b0-af78-4be8-906a-dbe15edeac6b",
   "metadata": {},
   "outputs": [
    {
     "data": {
      "text/plain": [
       "(798, 10)"
      ]
     },
     "execution_count": 29,
     "metadata": {},
     "output_type": "execute_result"
    }
   ],
   "source": [
    "Phone.shape"
   ]
  },
  {
   "cell_type": "code",
   "execution_count": 30,
   "id": "6669bc6e-53cd-43e2-8007-592c25c384a5",
   "metadata": {},
   "outputs": [
    {
     "data": {
      "text/html": [
       "<div>\n",
       "<style scoped>\n",
       "    .dataframe tbody tr th:only-of-type {\n",
       "        vertical-align: middle;\n",
       "    }\n",
       "\n",
       "    .dataframe tbody tr th {\n",
       "        vertical-align: top;\n",
       "    }\n",
       "\n",
       "    .dataframe thead th {\n",
       "        text-align: right;\n",
       "    }\n",
       "</style>\n",
       "<table border=\"1\" class=\"dataframe\">\n",
       "  <thead>\n",
       "    <tr style=\"text-align: right;\">\n",
       "      <th></th>\n",
       "      <th>Unnamed: 0</th>\n",
       "      <th>Ratings</th>\n",
       "      <th>RAM</th>\n",
       "      <th>ROM</th>\n",
       "      <th>Mobile_Size</th>\n",
       "      <th>Primary_Cam</th>\n",
       "      <th>Selfi_Cam</th>\n",
       "      <th>Battery_Power</th>\n",
       "      <th>Price</th>\n",
       "    </tr>\n",
       "  </thead>\n",
       "  <tbody>\n",
       "    <tr>\n",
       "      <th>count</th>\n",
       "      <td>798.000000</td>\n",
       "      <td>798.000000</td>\n",
       "      <td>798.000000</td>\n",
       "      <td>794.000000</td>\n",
       "      <td>796.000000</td>\n",
       "      <td>798.000000</td>\n",
       "      <td>551.000000</td>\n",
       "      <td>798.000000</td>\n",
       "      <td>798.000000</td>\n",
       "    </tr>\n",
       "    <tr>\n",
       "      <th>mean</th>\n",
       "      <td>419.192982</td>\n",
       "      <td>4.101629</td>\n",
       "      <td>6.073935</td>\n",
       "      <td>65.385894</td>\n",
       "      <td>5.643433</td>\n",
       "      <td>47.997494</td>\n",
       "      <td>9.607985</td>\n",
       "      <td>3290.250627</td>\n",
       "      <td>18967.000000</td>\n",
       "    </tr>\n",
       "    <tr>\n",
       "      <th>std</th>\n",
       "      <td>240.931589</td>\n",
       "      <td>0.366557</td>\n",
       "      <td>2.555442</td>\n",
       "      <td>54.212876</td>\n",
       "      <td>3.982219</td>\n",
       "      <td>10.552848</td>\n",
       "      <td>6.330780</td>\n",
       "      <td>929.739578</td>\n",
       "      <td>53924.825844</td>\n",
       "    </tr>\n",
       "    <tr>\n",
       "      <th>min</th>\n",
       "      <td>0.000000</td>\n",
       "      <td>2.800000</td>\n",
       "      <td>0.000000</td>\n",
       "      <td>0.000000</td>\n",
       "      <td>2.000000</td>\n",
       "      <td>5.000000</td>\n",
       "      <td>0.000000</td>\n",
       "      <td>1020.000000</td>\n",
       "      <td>479.000000</td>\n",
       "    </tr>\n",
       "    <tr>\n",
       "      <th>25%</th>\n",
       "      <td>211.250000</td>\n",
       "      <td>3.800000</td>\n",
       "      <td>6.000000</td>\n",
       "      <td>32.000000</td>\n",
       "      <td>4.500000</td>\n",
       "      <td>48.000000</td>\n",
       "      <td>5.000000</td>\n",
       "      <td>3000.000000</td>\n",
       "      <td>991.250000</td>\n",
       "    </tr>\n",
       "    <tr>\n",
       "      <th>50%</th>\n",
       "      <td>417.500000</td>\n",
       "      <td>4.100000</td>\n",
       "      <td>6.000000</td>\n",
       "      <td>64.000000</td>\n",
       "      <td>4.770000</td>\n",
       "      <td>48.000000</td>\n",
       "      <td>8.000000</td>\n",
       "      <td>3000.000000</td>\n",
       "      <td>1799.000000</td>\n",
       "    </tr>\n",
       "    <tr>\n",
       "      <th>75%</th>\n",
       "      <td>629.750000</td>\n",
       "      <td>4.400000</td>\n",
       "      <td>6.000000</td>\n",
       "      <td>64.000000</td>\n",
       "      <td>6.300000</td>\n",
       "      <td>48.000000</td>\n",
       "      <td>13.000000</td>\n",
       "      <td>3800.000000</td>\n",
       "      <td>18999.000000</td>\n",
       "    </tr>\n",
       "    <tr>\n",
       "      <th>max</th>\n",
       "      <td>835.000000</td>\n",
       "      <td>4.800000</td>\n",
       "      <td>34.000000</td>\n",
       "      <td>256.000000</td>\n",
       "      <td>44.000000</td>\n",
       "      <td>64.000000</td>\n",
       "      <td>61.000000</td>\n",
       "      <td>6000.000000</td>\n",
       "      <td>573000.000000</td>\n",
       "    </tr>\n",
       "  </tbody>\n",
       "</table>\n",
       "</div>"
      ],
      "text/plain": [
       "       Unnamed: 0     Ratings         RAM         ROM  Mobile_Size  \\\n",
       "count  798.000000  798.000000  798.000000  794.000000   796.000000   \n",
       "mean   419.192982    4.101629    6.073935   65.385894     5.643433   \n",
       "std    240.931589    0.366557    2.555442   54.212876     3.982219   \n",
       "min      0.000000    2.800000    0.000000    0.000000     2.000000   \n",
       "25%    211.250000    3.800000    6.000000   32.000000     4.500000   \n",
       "50%    417.500000    4.100000    6.000000   64.000000     4.770000   \n",
       "75%    629.750000    4.400000    6.000000   64.000000     6.300000   \n",
       "max    835.000000    4.800000   34.000000  256.000000    44.000000   \n",
       "\n",
       "       Primary_Cam   Selfi_Cam  Battery_Power          Price  \n",
       "count   798.000000  551.000000     798.000000     798.000000  \n",
       "mean     47.997494    9.607985    3290.250627   18967.000000  \n",
       "std      10.552848    6.330780     929.739578   53924.825844  \n",
       "min       5.000000    0.000000    1020.000000     479.000000  \n",
       "25%      48.000000    5.000000    3000.000000     991.250000  \n",
       "50%      48.000000    8.000000    3000.000000    1799.000000  \n",
       "75%      48.000000   13.000000    3800.000000   18999.000000  \n",
       "max      64.000000   61.000000    6000.000000  573000.000000  "
      ]
     },
     "execution_count": 30,
     "metadata": {},
     "output_type": "execute_result"
    }
   ],
   "source": [
    "Phone.describe()"
   ]
  },
  {
   "cell_type": "code",
   "execution_count": 31,
   "id": "44278bc9-d18a-4f60-aaab-92febb19fbb7",
   "metadata": {},
   "outputs": [],
   "source": [
    "#Considering the upper limit of RAM to be 12GB"
   ]
  },
  {
   "cell_type": "code",
   "execution_count": 32,
   "id": "efba27e9-6c95-4b65-b2cd-f5291038a2f4",
   "metadata": {},
   "outputs": [],
   "source": [
    "Phone=Phone[Phone['RAM']<12.000000]"
   ]
  },
  {
   "cell_type": "code",
   "execution_count": 33,
   "id": "32ace99d-27fe-45dc-9e90-83c33cfd5c43",
   "metadata": {},
   "outputs": [
    {
     "data": {
      "text/plain": [
       "(764, 10)"
      ]
     },
     "execution_count": 33,
     "metadata": {},
     "output_type": "execute_result"
    }
   ],
   "source": [
    "Phone.shape"
   ]
  },
  {
   "cell_type": "code",
   "execution_count": 34,
   "id": "296359a3-cdd1-402b-a53f-d13225b938bd",
   "metadata": {},
   "outputs": [],
   "source": [
    "Phone=Phone.drop('ROM', axis=1)"
   ]
  },
  {
   "cell_type": "code",
   "execution_count": 35,
   "id": "c97d5bec-bc40-4ea0-a21f-2efc08011525",
   "metadata": {},
   "outputs": [
    {
     "data": {
      "text/plain": [
       "(764, 9)"
      ]
     },
     "execution_count": 35,
     "metadata": {},
     "output_type": "execute_result"
    }
   ],
   "source": [
    "Phone.shape"
   ]
  },
  {
   "cell_type": "code",
   "execution_count": 36,
   "id": "b3e5e933-6438-4674-92a6-5e9693bb823b",
   "metadata": {},
   "outputs": [
    {
     "name": "stdout",
     "output_type": "stream",
     "text": [
      "<class 'pandas.core.frame.DataFrame'>\n",
      "Index: 764 entries, 0 to 835\n",
      "Data columns (total 9 columns):\n",
      " #   Column         Non-Null Count  Dtype  \n",
      "---  ------         --------------  -----  \n",
      " 0   Unnamed: 0     764 non-null    int64  \n",
      " 1   Brand me       764 non-null    object \n",
      " 2   Ratings        764 non-null    float64\n",
      " 3   RAM            764 non-null    float64\n",
      " 4   Mobile_Size    762 non-null    float64\n",
      " 5   Primary_Cam    764 non-null    int64  \n",
      " 6   Selfi_Cam      530 non-null    float64\n",
      " 7   Battery_Power  764 non-null    int64  \n",
      " 8   Price          764 non-null    int64  \n",
      "dtypes: float64(4), int64(4), object(1)\n",
      "memory usage: 59.7+ KB\n"
     ]
    }
   ],
   "source": [
    "Phone.info()"
   ]
  },
  {
   "cell_type": "code",
   "execution_count": 37,
   "id": "c10fca5a-e110-4f2b-8565-c899db51bab4",
   "metadata": {},
   "outputs": [],
   "source": [
    "Phone=Phone.dropna(subset=['Mobile_Size'])"
   ]
  },
  {
   "cell_type": "code",
   "execution_count": 38,
   "id": "635a2e42-4c3c-4224-87ef-2f79cc733c2d",
   "metadata": {},
   "outputs": [
    {
     "data": {
      "text/plain": [
       "(762, 9)"
      ]
     },
     "execution_count": 38,
     "metadata": {},
     "output_type": "execute_result"
    }
   ],
   "source": [
    "Phone.shape"
   ]
  },
  {
   "cell_type": "code",
   "execution_count": 39,
   "id": "214b8b48-c42f-4820-9237-990ea650da6c",
   "metadata": {},
   "outputs": [],
   "source": [
    "Phone=Phone[Phone['Mobile_Size']<7.000000]\n",
    "Phone=Phone[Phone['Mobile_Size']>3.000000]"
   ]
  },
  {
   "cell_type": "code",
   "execution_count": 40,
   "id": "073af31e-6d8d-4c31-846d-8cf790274f7a",
   "metadata": {},
   "outputs": [
    {
     "data": {
      "text/plain": [
       "(747, 9)"
      ]
     },
     "execution_count": 40,
     "metadata": {},
     "output_type": "execute_result"
    }
   ],
   "source": [
    "Phone.shape"
   ]
  },
  {
   "cell_type": "code",
   "execution_count": 41,
   "id": "07553f95-8829-4968-a901-3e5400cdb7c6",
   "metadata": {},
   "outputs": [
    {
     "name": "stdout",
     "output_type": "stream",
     "text": [
      "<class 'pandas.core.frame.DataFrame'>\n",
      "Index: 747 entries, 0 to 835\n",
      "Data columns (total 9 columns):\n",
      " #   Column         Non-Null Count  Dtype  \n",
      "---  ------         --------------  -----  \n",
      " 0   Unnamed: 0     747 non-null    int64  \n",
      " 1   Brand me       747 non-null    object \n",
      " 2   Ratings        747 non-null    float64\n",
      " 3   RAM            747 non-null    float64\n",
      " 4   Mobile_Size    747 non-null    float64\n",
      " 5   Primary_Cam    747 non-null    int64  \n",
      " 6   Selfi_Cam      521 non-null    float64\n",
      " 7   Battery_Power  747 non-null    int64  \n",
      " 8   Price          747 non-null    int64  \n",
      "dtypes: float64(4), int64(4), object(1)\n",
      "memory usage: 58.4+ KB\n"
     ]
    }
   ],
   "source": [
    "Phone.info()"
   ]
  },
  {
   "cell_type": "code",
   "execution_count": 42,
   "id": "43dc1b15-e505-4785-9bfb-8c645a4a2cd6",
   "metadata": {},
   "outputs": [],
   "source": [
    "Phone = Phone.dropna(subset=['Selfi_Cam'])"
   ]
  },
  {
   "cell_type": "code",
   "execution_count": 43,
   "id": "86dcbd92-9f24-41c2-980c-e6e9fcbd8665",
   "metadata": {},
   "outputs": [
    {
     "data": {
      "text/plain": [
       "(521, 9)"
      ]
     },
     "execution_count": 43,
     "metadata": {},
     "output_type": "execute_result"
    }
   ],
   "source": [
    "Phone.shape"
   ]
  },
  {
   "cell_type": "code",
   "execution_count": 44,
   "id": "caa34666-bebf-42f7-af6b-cabe710ceba8",
   "metadata": {},
   "outputs": [],
   "source": [
    "Phone['Selfi_Cam']=Phone['Selfi_Cam'].astype(int)"
   ]
  },
  {
   "cell_type": "code",
   "execution_count": 45,
   "id": "1314a265-59a1-4cc9-8d25-e3f1382af3a9",
   "metadata": {},
   "outputs": [
    {
     "name": "stdout",
     "output_type": "stream",
     "text": [
      "<class 'pandas.core.frame.DataFrame'>\n",
      "Index: 521 entries, 0 to 835\n",
      "Data columns (total 9 columns):\n",
      " #   Column         Non-Null Count  Dtype  \n",
      "---  ------         --------------  -----  \n",
      " 0   Unnamed: 0     521 non-null    int64  \n",
      " 1   Brand me       521 non-null    object \n",
      " 2   Ratings        521 non-null    float64\n",
      " 3   RAM            521 non-null    float64\n",
      " 4   Mobile_Size    521 non-null    float64\n",
      " 5   Primary_Cam    521 non-null    int64  \n",
      " 6   Selfi_Cam      521 non-null    int32  \n",
      " 7   Battery_Power  521 non-null    int64  \n",
      " 8   Price          521 non-null    int64  \n",
      "dtypes: float64(3), int32(1), int64(4), object(1)\n",
      "memory usage: 38.7+ KB\n"
     ]
    }
   ],
   "source": [
    "Phone.info()"
   ]
  },
  {
   "cell_type": "code",
   "execution_count": 46,
   "id": "8b419b53-bf23-4586-a8e3-16bd77f2becf",
   "metadata": {},
   "outputs": [
    {
     "data": {
      "text/html": [
       "<div>\n",
       "<style scoped>\n",
       "    .dataframe tbody tr th:only-of-type {\n",
       "        vertical-align: middle;\n",
       "    }\n",
       "\n",
       "    .dataframe tbody tr th {\n",
       "        vertical-align: top;\n",
       "    }\n",
       "\n",
       "    .dataframe thead th {\n",
       "        text-align: right;\n",
       "    }\n",
       "</style>\n",
       "<table border=\"1\" class=\"dataframe\">\n",
       "  <thead>\n",
       "    <tr style=\"text-align: right;\">\n",
       "      <th></th>\n",
       "      <th>Unnamed: 0</th>\n",
       "      <th>Brand me</th>\n",
       "      <th>Ratings</th>\n",
       "      <th>RAM</th>\n",
       "      <th>Mobile_Size</th>\n",
       "      <th>Primary_Cam</th>\n",
       "      <th>Selfi_Cam</th>\n",
       "      <th>Battery_Power</th>\n",
       "      <th>Price</th>\n",
       "    </tr>\n",
       "  </thead>\n",
       "  <tbody>\n",
       "    <tr>\n",
       "      <th>0</th>\n",
       "      <td>0</td>\n",
       "      <td>LG V30+ (Black, 128 )</td>\n",
       "      <td>4.3</td>\n",
       "      <td>4.0</td>\n",
       "      <td>6.00</td>\n",
       "      <td>48</td>\n",
       "      <td>13</td>\n",
       "      <td>4000</td>\n",
       "      <td>24999</td>\n",
       "    </tr>\n",
       "    <tr>\n",
       "      <th>1</th>\n",
       "      <td>1</td>\n",
       "      <td>I Kall K11</td>\n",
       "      <td>3.4</td>\n",
       "      <td>6.0</td>\n",
       "      <td>4.50</td>\n",
       "      <td>48</td>\n",
       "      <td>12</td>\n",
       "      <td>4000</td>\n",
       "      <td>15999</td>\n",
       "    </tr>\n",
       "    <tr>\n",
       "      <th>2</th>\n",
       "      <td>2</td>\n",
       "      <td>Nokia 105 ss</td>\n",
       "      <td>4.3</td>\n",
       "      <td>4.0</td>\n",
       "      <td>4.50</td>\n",
       "      <td>64</td>\n",
       "      <td>16</td>\n",
       "      <td>4000</td>\n",
       "      <td>15000</td>\n",
       "    </tr>\n",
       "    <tr>\n",
       "      <th>3</th>\n",
       "      <td>3</td>\n",
       "      <td>Samsung Galaxy A50 (White, 64 )</td>\n",
       "      <td>4.4</td>\n",
       "      <td>6.0</td>\n",
       "      <td>6.40</td>\n",
       "      <td>48</td>\n",
       "      <td>15</td>\n",
       "      <td>3800</td>\n",
       "      <td>18999</td>\n",
       "    </tr>\n",
       "    <tr>\n",
       "      <th>4</th>\n",
       "      <td>4</td>\n",
       "      <td>POCO F1 (Steel Blue, 128 )</td>\n",
       "      <td>4.5</td>\n",
       "      <td>6.0</td>\n",
       "      <td>6.18</td>\n",
       "      <td>35</td>\n",
       "      <td>15</td>\n",
       "      <td>3800</td>\n",
       "      <td>18999</td>\n",
       "    </tr>\n",
       "  </tbody>\n",
       "</table>\n",
       "</div>"
      ],
      "text/plain": [
       "   Unnamed: 0                         Brand me  Ratings  RAM  Mobile_Size  \\\n",
       "0           0            LG V30+ (Black, 128 )      4.3  4.0         6.00   \n",
       "1           1                       I Kall K11      3.4  6.0         4.50   \n",
       "2           2                     Nokia 105 ss      4.3  4.0         4.50   \n",
       "3           3  Samsung Galaxy A50 (White, 64 )      4.4  6.0         6.40   \n",
       "4           4       POCO F1 (Steel Blue, 128 )      4.5  6.0         6.18   \n",
       "\n",
       "   Primary_Cam  Selfi_Cam  Battery_Power  Price  \n",
       "0           48         13           4000  24999  \n",
       "1           48         12           4000  15999  \n",
       "2           64         16           4000  15000  \n",
       "3           48         15           3800  18999  \n",
       "4           35         15           3800  18999  "
      ]
     },
     "execution_count": 46,
     "metadata": {},
     "output_type": "execute_result"
    }
   ],
   "source": [
    "Phone.head()"
   ]
  },
  {
   "cell_type": "code",
   "execution_count": 47,
   "id": "47ecd1a4-48d0-4263-99f0-6c4c6b11266e",
   "metadata": {},
   "outputs": [],
   "source": [
    "Phone['Price']=Phone['Price'].astype(float)"
   ]
  },
  {
   "cell_type": "code",
   "execution_count": 48,
   "id": "2cced75a-950b-44e6-a92a-71304e069520",
   "metadata": {},
   "outputs": [
    {
     "name": "stdout",
     "output_type": "stream",
     "text": [
      "<class 'pandas.core.frame.DataFrame'>\n",
      "Index: 521 entries, 0 to 835\n",
      "Data columns (total 9 columns):\n",
      " #   Column         Non-Null Count  Dtype  \n",
      "---  ------         --------------  -----  \n",
      " 0   Unnamed: 0     521 non-null    int64  \n",
      " 1   Brand me       521 non-null    object \n",
      " 2   Ratings        521 non-null    float64\n",
      " 3   RAM            521 non-null    float64\n",
      " 4   Mobile_Size    521 non-null    float64\n",
      " 5   Primary_Cam    521 non-null    int64  \n",
      " 6   Selfi_Cam      521 non-null    int32  \n",
      " 7   Battery_Power  521 non-null    int64  \n",
      " 8   Price          521 non-null    float64\n",
      "dtypes: float64(4), int32(1), int64(3), object(1)\n",
      "memory usage: 38.7+ KB\n"
     ]
    }
   ],
   "source": [
    "Phone.info()"
   ]
  },
  {
   "cell_type": "code",
   "execution_count": 49,
   "id": "963d26e7-547e-4898-8444-25b427b726d6",
   "metadata": {},
   "outputs": [
    {
     "data": {
      "text/plain": [
       "array(['LG V30+ (Black, 128 )', 'I Kall K11', 'Nokia 105 ss',\n",
       "       'Samsung Galaxy A50 (White, 64 )', 'POCO F1 (Steel Blue, 128 )',\n",
       "       'Apple iPhone 11 Pro (Space Grey, 512 )',\n",
       "       'Samsung Galaxy A70s (Prism Crush Red, 128 )',\n",
       "       'Samsung Galaxy S10 Lite (Prism Blue, 512 )',\n",
       "       'OPPO A9 (Marble Green, 128 )', 'POCO F1 (Graphite Black, 256 )',\n",
       "       'Megus Ultra', 'Jmax M40 Coo of Two', 'Easyfone Star',\n",
       "       'OnePlus 7 Pro (Nebula Blue, 256 )',\n",
       "       'OnePlus 7 Pro (Mirror Grey, 128 )',\n",
       "       'Samsung Galaxy S20+ (Cloud Blue, 128 )',\n",
       "       'Samsung Galaxy S10 Lite (Prism Black, 512 )',\n",
       "       'OPPO A5s (Red, 32 )', 'Micax X742', 'InFocus Selfie C1',\n",
       "       'LG G8X (Black, 128 )', 'Gee A1 (Grey, 64 )',\n",
       "       'Tecno Camon 15 Pro (Opal White, 128 )', 'Micax X749',\n",
       "       'Karbonn KX21', 'Inovu A9', 'LG Q Stylus (Black, 32 )',\n",
       "       'OPPO R17 Pro (Emerald Green, 128 )', 'Meizu C9 Pro (Black, 32 )',\n",
       "       'Jivi R21Plus', 'Lava 34 ', 'Apple iPhone 11 Pro Max (Gold, 64 )',\n",
       "       'Samsung Galaxy S8 Plus (Midnight Black, 64 )',\n",
       "       'Black Shark 2 (Shadow Black, 128 )', 'InFocus POWER 2',\n",
       "       'Blacear B5 Grip', 'Alcatel 5V (Spectrum Blue, 32 )',\n",
       "       'Redmi Note 5 Pro (Gold, 64 )', 'Redmi K20 (Flame Red, 128 )',\n",
       "       'Apple iPhone 11 (Yellow, 64 )', 'Gee F103 Pro (Grey, 16 )',\n",
       "       'Gee F103 Pro (Gold, 16 )', 'JIVI 12M',\n",
       "       'Nexus 6P Special Edit (Gold, 64 )',\n",
       "       'OPPO F15 (Lightening Black, 128 )',\n",
       "       'Apple iPhone 11 Pro (Gold, 64 )', 'LG Q6 (Black, 32 )',\n",
       "       'OPPO K1 (Piano Black, 64 )',\n",
       "       'Redmi Note 7 Pro (Neptune Blue, 128 )',\n",
       "       'OPPO Reno2 (Ocean Blue, 256 )', 'Jivi N9030',\n",
       "       'Gee S11 Lite (Gold, 32 )', 'Jivi N300 New', 'Ssky S9007 Rainbow',\n",
       "       'Q-Tel Q8', 'Redmi K20 Pro (Pearl White, 256 )',\n",
       "       'OPPO A3s (Purple, 32 )', 'OPPO A83 (Chaagne, 16 )',\n",
       "       'OPPO A5s (Black, 32 )', 'Vivo Y66 (Crown Gold, 32 )',\n",
       "       'Vivo V7 (Gold, 32 )', 'Vivo X21 (Black, 128 )',\n",
       "       'Redmi K20 (Pearl White, 64 )',\n",
       "       'Samsung Galaxy S20+ (Cosmic Black, 128 )',\n",
       "       'Redmi K20 (Carbon Black, 128 )', 'Mi A3 (More Than White, 128 )',\n",
       "       'Nokia 216/216 DS', 'JIVI N3720 Power', 'BlackZone Neo-B',\n",
       "       'Lava One', 'Micax Flash X910', 'I Kall K27 New',\n",
       "       'OPPO A5s (Blue, 32 )', 'I Kall K 15', 'Vivo Y81 (Gold, 32 )',\n",
       "       'MI3 (Metallic Grey, 16 )', 'Grabo G100',\n",
       "       'Apple iPhone 11 Pro Max (Silver, 64 )',\n",
       "       'Redmi Note 8 (Cosmic Purple, 128 )', 'MTR MT 310',\n",
       "       'I Kall K18 New Coo of Two Mobiles',\n",
       "       'Karbonn Titanium S4 (Black, 4 )', 'Redmi Note 6 Pro (Black, 64 )',\n",
       "       'Samsung Galaxy A21s (White, 64 )', 'Nokia 7.2 (Charcoal, 64 )',\n",
       "       'Lava Z61 (Gold, 16 )', 'MTR Ba', 'I Kall K73', 'Karbonn K338N',\n",
       "       'I Kall K3312', 'MTR Shakti', 'Honor 8X (Black, 128 )',\n",
       "       'Vivo S1 (Diamond Black, 64 )', 'I Kall K3310 Coo Of Two Mobile',\n",
       "       'Tork T13 Ba', 'Honor 9N (Midnight Black, 64 )',\n",
       "       'Samsung Galaxy A80 (Phantom Black, 128 )',\n",
       "       'Alcatel 5V (Spectrum Black, 32 )', 'Mi A2 (Blue/Lake Blue, 64 )',\n",
       "       'Mi A3 (Not just Blue, 128 )',\n",
       "       'Samsung Galaxy S8 Plus (Maple Gold, 64 )',\n",
       "       'Realme C2 (Diamond Blue, 16 )', 'Honor 8X (Blue, 64 )',\n",
       "       'Lava A1 ', 'Itel It 2163', 'Easyfone Elite',\n",
       "       'POCO F1 (Rosso Red, 64 )', 'I Kall K55 Coo Of Two Mobile',\n",
       "       'InFocus Hero Selfie C1', 'Vivo V17Pro (Glacier Ice White, 128 )',\n",
       "       'I Kall K25 New', 'Itel It2171', 'Itel It 5022',\n",
       "       'Honor 9N (Midnight Black, 128 )', 'GreenBerry 312',\n",
       "       'Vivo Y81 (Black, 32 )', 'Samsung Galaxy S10e (Prism Black, 128 )',\n",
       "       'Itel It 2190', 'MTR Sima', 'Redmi 8A Dual (Midnight Grey, 64 )',\n",
       "       'Vivo Y17 (Mystic Purple, 128 )', 'Mi A3 (Kind of Grey, 128 )',\n",
       "       'Honor 9N (Sapphire Blue, 128 )', 'Apple iPhone XS (Silver, 512 )',\n",
       "       'OPPO F11 Pro (Aurora Green, 64 )', 'I kall k6300 NEW',\n",
       "       'OPPO F9 Pro (Sunrise Red, 64 )', 'Karbonn K5 Plus',\n",
       "       'I Kall K99 Coo Of Two Mobile', 'Vivo V7+ (Gold, 64 )',\n",
       "       'Peace FM1', 'Itel It 2161', 'I Kall K88 Coo Of Two Mobile',\n",
       "       'Apple iPhone 8 Plus (Gold, 64 )',\n",
       "       'Samsung Galaxy Note 10 (Aura Black, 256 )', 'Itel Muzik 3000',\n",
       "       'Lava A7', 'Forme Duos N2', 'Kechaoda K35', 'Mafe Leo',\n",
       "       'Ssky S3500', 'I Kall K20 New Coo of Two Mobiles', 'Jivi Ba 6',\n",
       "       'I Kall K28', 'Honor Play (Midnight Black, 64 )', 'I Kall K20 New',\n",
       "       'Itel It 5605n', 'I Kall K200 (Red, 16 )',\n",
       "       'Infinix Hot 9 (Ocean Wave, 64 )',\n",
       "       'Realme rzo 10 (That Green, 128 )',\n",
       "       'Realme rzo 10 (That White, 128 )',\n",
       "       'Realme rzo 10 (That Blue, 128 )',\n",
       "       'Redmi Note 8 Pro (Halo White, 128 )',\n",
       "       'Realme 6 (Comet White, 128 )', 'POCO X2 (Matrix Purple, 64 )',\n",
       "       'Realme 6 Pro (Lightning Blue, 64 )',\n",
       "       'OPPO A9 2020 (Marine Green, 128 )',\n",
       "       'Vivo U10 (Thunder Black, 32 )',\n",
       "       'Motorola One Fus+ (Twilight Blue, 128 )',\n",
       "       'Vivo U10 (Electric Blue, 32 )', 'OPPO A12 (Blue, 32 )',\n",
       "       'OPPO A12 (Black, 32 )', 'OPPO A31 (Fantasy White, 64 )',\n",
       "       'OPPO A9 2020 (Space Purple, 128 )', 'Vivo Y15 (Aqua Blue, 64 )',\n",
       "       'Samsung Galaxy M01 (Black, 32 )', 'Vivo Y12 (Aqua Blue, 64 )',\n",
       "       'Samsung Galaxy M01 (Blue, 32 )', 'Karbonn K451 Power',\n",
       "       'Micax X512', 'Kechaoda K10', 'Redmi K20 Pro (Carbon Black, 128 )',\n",
       "       'OnePlus 7T (Glacier Blue, 256 )',\n",
       "       'OnePlus 7T (Frosted Silver, 128 )',\n",
       "       'Apple iPhone 7 Plus (Gold, 32 )',\n",
       "       'Realme X2 Pro (Lur White, 128 )',\n",
       "       'Realme X2 Pro (Neptune Blue, 128 )',\n",
       "       'Honor 9X (Sapphire Blue, 128 )', 'Vivo Y91i (Black, 32 )',\n",
       "       'Samsung Galaxy M31 (Space Black, 128 )',\n",
       "       'iQOO 3 (Tordo Black, 128 )', 'Samsung Galaxy A20s (Blue, 64 )',\n",
       "       'Vivo V17 (Glacier ice white, 128 )', 'Apple iPhone 11 (Red, 64 )',\n",
       "       'Vivo S1 (Diamond Black, 128 )',\n",
       "       'Apple iPhone 8 (Space Grey, 64 )', 'Kechaoda A27',\n",
       "       'Samsung Galaxy Note10 Lite (Aura Black, 128 )', 'Micax X421',\n",
       "       'iQOO 3 (Quantum Silver, 128 )', 'iQOO 3 (Quantum Silver, 256 )',\n",
       "       'Redmi Note 8 Pro (Electric Blue, 64 )',\n",
       "       'Google Pixel 3a (Clearly White, 64 )',\n",
       "       'Samsung Galaxy A21s (Black, 64 )', 'Good One Magic',\n",
       "       'Karbonn K140 Pop', 'Mi Mix 2 (Black, 128 )',\n",
       "       'Vivo V19 (Piano Black, 256 )',\n",
       "       'Samsung Galaxy Note10 Lite (Aura Glow, 128 )', 'Micax X1i Power',\n",
       "       'Honor 20 (Midnight Black, 128 )',\n",
       "       'OPPO Reno3 Pro (Midnight Black, 128 )',\n",
       "       'Samsung Galaxy A71 (Prism Crush Black, 128 )',\n",
       "       'Redmi K20 Pro (Pearl White, 128 )', 'I Kall K6610',\n",
       "       'OPPO Reno 10x Zoom (Ocean Green, 256 )',\n",
       "       'Realme 2 Pro (Black Sea, 128 )', 'Hicell C2 Dezire',\n",
       "       'Realme X2 Pro (Neptune Blue, 64 )',\n",
       "       'Vivo V19 (Mystic Silver, 256 )',\n",
       "       'OnePlus 7T Pro (Haze Blue, 256 )', 'Micax X750',\n",
       "       'Redmi Note 6 Pro (Red, 64 )', 'Nokia 106', 'Blacear C-99 Sultan',\n",
       "       'Easyfone Royale', 'Kechaoda K115',\n",
       "       'OPPO A9 2020 (Vanilla Mint, 128 )', 'I Kall K33 New',\n",
       "       'Kechaoda K116 Plus', 'OPPO F11 Pro (Aurora Green, 128 )',\n",
       "       'Lava Gem', 'MTR Ferrari', 'Itel IT 2163',\n",
       "       'Google Pixel 3a (Just Black, 64 )',\n",
       "       'Samsung Galaxy M31 (Ocean Blue, 128 )', 'BlackZone M4',\n",
       "       'Lava Z41 (Aer Red, 16 )', 'Redmi K20 (Carbon Black, 64 )',\n",
       "       'Apple iPhone 7 Plus (Rose Gold, 32 )', 'Karbonn k24+',\n",
       "       'Itel Magic 1', 'Salora Volt 2',\n",
       "       'OPPO Reno3 Pro (Sky White, 128 )',\n",
       "       'OPPO Reno3 Pro (Auroral Blue, 128 )',\n",
       "       'Redmi Note 6 Pro (Rose Gold, 64 )', 'Micax X381',\n",
       "       'Vivo S1 (Skyline Blue, 64 )', 'Vivo Y15 (Burgundy Red, 64 )',\n",
       "       'Lenovo A5 (Black, 32 )', 'Apple iPhone 11 Pro (Silver, 512 )',\n",
       "       'Samsung Galaxy S10 (Prism White, 512 )',\n",
       "       'OnePlus 6T (Speed Orange, 256 )',\n",
       "       'Micax Canvas Infinity (Black, 32 )', 'Lava A1 Josh',\n",
       "       'I Kall K3312 Coo', 'Vivo V15 Pro (Ruby Red, 128 )',\n",
       "       'Apple iPhone 7 Plus (Silver, 32 )', 'Lava Prime X',\n",
       "       'I Kall K23 New Mobile', 'Kechaoda K2', 'Nokia 105 SS',\n",
       "       'Moto One (White, 64 )', 'LG Q7+ (Black, 64 )',\n",
       "       'Vivo V17Pro (Midnight Ocean Black, 128 )', 'Nokia 105',\n",
       "       'Vivo Y91i (Ocean Blue, 16 )', 'Samsung Galaxy A50 (Blue, 64 )',\n",
       "       'Kechaoda A32', 'Samsung Galaxy A9 (Bubblegum Pink, 128 )',\n",
       "       'Vivo V9 (Pearl Black (Golden Line), 64 )',\n",
       "       'Vivo NEX (Black, 128 )', 'Honor 9 Lite (Sapphire Blue, 32 )',\n",
       "       'Samsung Galaxy S20+ (Cosmic Gray, 128 )',\n",
       "       'Lenovo VIBE P1 (Grey, 32 )', 'Redmi Note 7S (Sapphire Blue, 32 )',\n",
       "       'Vivo Y19 (Spring White, 128 )', 'OPPO A1K (Red, 32 )',\n",
       "       'Realme 3 Pro (Nitro Blue, 64 )', 'Itel it2161',\n",
       "       'OPPO A5s (Gold, 64 )', 'Redmi K20 (Glacier Blue, 128 )',\n",
       "       'Jivi N3', 'Salora Vishaal',\n",
       "       'Samsung Galaxy A51 (Prism Crush White, 128 )',\n",
       "       'Apple iPhone 6s (Space Grey, 32 )', 'Nokia 2.3 (Charcoal, 32 )',\n",
       "       'BlackZone ATOM', 'OnePlus 7 (Red, 256 )',\n",
       "       'OPPO Reno2 (Luminous Black, 256 )',\n",
       "       'Samsung Galaxy S10 Lite (Prism White, 128 )', 'Muphone M380',\n",
       "       'Samsung Galaxy A50s (Prism Crush Black, 128 )',\n",
       "       'OPPO F9 Pro (Twilight Blue, 64 )',\n",
       "       'Redmi Note 8 Pro (Gamma Green, 128 )',\n",
       "       'Blacerry Evolve (Black, 64 )', 'I Kall K28 Coo of Two Mobiles',\n",
       "       'OPPO A9 (Fluorite Purple, 128 )', 'Mi 10 (Twilight Grey, 128 )',\n",
       "       'Mi 10 (Coral Green, 256 )', 'I Kall K25 Coo of Two Mobiles',\n",
       "       'Nokia 2.3 (Sand, 32 )', 'I Kall K24 New Coo of Two Mobiles',\n",
       "       'Huawei Y9 Prime 2019 (Sapphire Blue, 128 )',\n",
       "       'Samsung Galaxy A80 (Ghost White, 128 )', 'I Kall K 54',\n",
       "       'Honor 20 (Sapphire Blue, 128 )',\n",
       "       'Redmi K20 Pro (Carbon Black, 256 )', 'Micax X1i-2017',\n",
       "       'Nokia TA-1010/105', 'POCO F1 (Armoured Edit, 256 )',\n",
       "       'OnePlus 7 (Mirror Grey, 256 )', 'OnePlus 7 (Mirror Grey, 128 )',\n",
       "       'Samsung Galaxy A70s (Prism Crush White, 128 )',\n",
       "       'Apple iPhone 8 (Silver, 64 )', 'Karbonn KX23',\n",
       "       'Apple iPhone 11 Pro Max (Space Grey, 64 )', 'Peace P4',\n",
       "       'I Kall k111 new', 'Karbonn K334', 'Nokia 3310 DS',\n",
       "       'Micax X1i-Pop', 'Karbonn K24 Plus Pro'], dtype=object)"
      ]
     },
     "execution_count": 49,
     "metadata": {},
     "output_type": "execute_result"
    }
   ],
   "source": [
    "Phone['Brand me'].unique()"
   ]
  },
  {
   "cell_type": "markdown",
   "id": "9965cd64-5ace-4c7a-8fac-9d250e30f0b8",
   "metadata": {},
   "source": [
    "Considering second word of the brand name"
   ]
  },
  {
   "cell_type": "code",
   "execution_count": 50,
   "id": "3e275c0e-179e-4294-a754-58801a5ef3eb",
   "metadata": {},
   "outputs": [],
   "source": [
    "Phone['Brand me']=Phone['Brand me'].str.split(' ').str.slice(0,2).str.join(' ')"
   ]
  },
  {
   "cell_type": "code",
   "execution_count": 51,
   "id": "294c926c-8d26-4122-b81c-012b10121094",
   "metadata": {},
   "outputs": [
    {
     "data": {
      "text/html": [
       "<div>\n",
       "<style scoped>\n",
       "    .dataframe tbody tr th:only-of-type {\n",
       "        vertical-align: middle;\n",
       "    }\n",
       "\n",
       "    .dataframe tbody tr th {\n",
       "        vertical-align: top;\n",
       "    }\n",
       "\n",
       "    .dataframe thead th {\n",
       "        text-align: right;\n",
       "    }\n",
       "</style>\n",
       "<table border=\"1\" class=\"dataframe\">\n",
       "  <thead>\n",
       "    <tr style=\"text-align: right;\">\n",
       "      <th></th>\n",
       "      <th>Unnamed: 0</th>\n",
       "      <th>Brand me</th>\n",
       "      <th>Ratings</th>\n",
       "      <th>RAM</th>\n",
       "      <th>Mobile_Size</th>\n",
       "      <th>Primary_Cam</th>\n",
       "      <th>Selfi_Cam</th>\n",
       "      <th>Battery_Power</th>\n",
       "      <th>Price</th>\n",
       "    </tr>\n",
       "  </thead>\n",
       "  <tbody>\n",
       "    <tr>\n",
       "      <th>0</th>\n",
       "      <td>0</td>\n",
       "      <td>LG V30+</td>\n",
       "      <td>4.3</td>\n",
       "      <td>4.0</td>\n",
       "      <td>6.00</td>\n",
       "      <td>48</td>\n",
       "      <td>13</td>\n",
       "      <td>4000</td>\n",
       "      <td>24999.0</td>\n",
       "    </tr>\n",
       "    <tr>\n",
       "      <th>1</th>\n",
       "      <td>1</td>\n",
       "      <td>I Kall</td>\n",
       "      <td>3.4</td>\n",
       "      <td>6.0</td>\n",
       "      <td>4.50</td>\n",
       "      <td>48</td>\n",
       "      <td>12</td>\n",
       "      <td>4000</td>\n",
       "      <td>15999.0</td>\n",
       "    </tr>\n",
       "    <tr>\n",
       "      <th>2</th>\n",
       "      <td>2</td>\n",
       "      <td>Nokia 105</td>\n",
       "      <td>4.3</td>\n",
       "      <td>4.0</td>\n",
       "      <td>4.50</td>\n",
       "      <td>64</td>\n",
       "      <td>16</td>\n",
       "      <td>4000</td>\n",
       "      <td>15000.0</td>\n",
       "    </tr>\n",
       "    <tr>\n",
       "      <th>3</th>\n",
       "      <td>3</td>\n",
       "      <td>Samsung Galaxy</td>\n",
       "      <td>4.4</td>\n",
       "      <td>6.0</td>\n",
       "      <td>6.40</td>\n",
       "      <td>48</td>\n",
       "      <td>15</td>\n",
       "      <td>3800</td>\n",
       "      <td>18999.0</td>\n",
       "    </tr>\n",
       "    <tr>\n",
       "      <th>4</th>\n",
       "      <td>4</td>\n",
       "      <td>POCO F1</td>\n",
       "      <td>4.5</td>\n",
       "      <td>6.0</td>\n",
       "      <td>6.18</td>\n",
       "      <td>35</td>\n",
       "      <td>15</td>\n",
       "      <td>3800</td>\n",
       "      <td>18999.0</td>\n",
       "    </tr>\n",
       "  </tbody>\n",
       "</table>\n",
       "</div>"
      ],
      "text/plain": [
       "   Unnamed: 0        Brand me  Ratings  RAM  Mobile_Size  Primary_Cam  \\\n",
       "0           0         LG V30+      4.3  4.0         6.00           48   \n",
       "1           1          I Kall      3.4  6.0         4.50           48   \n",
       "2           2       Nokia 105      4.3  4.0         4.50           64   \n",
       "3           3  Samsung Galaxy      4.4  6.0         6.40           48   \n",
       "4           4         POCO F1      4.5  6.0         6.18           35   \n",
       "\n",
       "   Selfi_Cam  Battery_Power    Price  \n",
       "0         13           4000  24999.0  \n",
       "1         12           4000  15999.0  \n",
       "2         16           4000  15000.0  \n",
       "3         15           3800  18999.0  \n",
       "4         15           3800  18999.0  "
      ]
     },
     "execution_count": 51,
     "metadata": {},
     "output_type": "execute_result"
    }
   ],
   "source": [
    "Phone.head()"
   ]
  },
  {
   "cell_type": "code",
   "execution_count": 52,
   "id": "3030ba87-7535-4147-b911-b255f8f40328",
   "metadata": {},
   "outputs": [
    {
     "data": {
      "text/plain": [
       "array(['LG V30+', 'I Kall', 'Nokia 105', 'Samsung Galaxy', 'POCO F1',\n",
       "       'Apple iPhone', 'OPPO A9', 'Megus Ultra', 'Jmax M40',\n",
       "       'Easyfone Star', 'OnePlus 7', 'OPPO A5s', 'Micax X742',\n",
       "       'InFocus Selfie', 'LG G8X', 'Gee A1', 'Tecno Camon', 'Micax X749',\n",
       "       'Karbonn KX21', 'Inovu A9', 'LG Q', 'OPPO R17', 'Meizu C9',\n",
       "       'Jivi R21Plus', 'Lava 34', 'Black Shark', 'InFocus POWER',\n",
       "       'Blacear B5', 'Alcatel 5V', 'Redmi Note', 'Redmi K20', 'Gee F103',\n",
       "       'JIVI 12M', 'Nexus 6P', 'OPPO F15', 'LG Q6', 'OPPO K1',\n",
       "       'OPPO Reno2', 'Jivi N9030', 'Gee S11', 'Jivi N300', 'Ssky S9007',\n",
       "       'Q-Tel Q8', 'OPPO A3s', 'OPPO A83', 'Vivo Y66', 'Vivo V7',\n",
       "       'Vivo X21', 'Mi A3', 'Nokia 216/216', 'JIVI N3720',\n",
       "       'BlackZone Neo-B', 'Lava One', 'Micax Flash', 'Vivo Y81',\n",
       "       'MI3 (Metallic', 'Grabo G100', 'MTR MT', 'Karbonn Titanium',\n",
       "       'Nokia 7.2', 'Lava Z61', 'MTR Ba', 'Karbonn K338N', 'MTR Shakti',\n",
       "       'Honor 8X', 'Vivo S1', 'Tork T13', 'Honor 9N', 'Mi A2',\n",
       "       'Realme C2', 'Lava A1', 'Itel It', 'Easyfone Elite',\n",
       "       'InFocus Hero', 'Vivo V17Pro', 'Itel It2171', 'GreenBerry 312',\n",
       "       'MTR Sima', 'Redmi 8A', 'Vivo Y17', 'OPPO F11', 'I kall',\n",
       "       'OPPO F9', 'Karbonn K5', 'Vivo V7+', 'Peace FM1', 'Itel Muzik',\n",
       "       'Lava A7', 'Forme Duos', 'Kechaoda K35', 'Mafe Leo', 'Ssky S3500',\n",
       "       'Jivi Ba', 'Honor Play', 'Infinix Hot', 'Realme rzo', 'Realme 6',\n",
       "       'POCO X2', 'Vivo U10', 'Motorola One', 'OPPO A12', 'OPPO A31',\n",
       "       'Vivo Y15', 'Vivo Y12', 'Karbonn K451', 'Micax X512',\n",
       "       'Kechaoda K10', 'OnePlus 7T', 'Realme X2', 'Honor 9X', 'Vivo Y91i',\n",
       "       'iQOO 3', 'Vivo V17', 'Kechaoda A27', 'Micax X421', 'Google Pixel',\n",
       "       'Good One', 'Karbonn K140', 'Mi Mix', 'Vivo V19', 'Micax X1i',\n",
       "       'Honor 20', 'OPPO Reno3', 'OPPO Reno', 'Realme 2', 'Hicell C2',\n",
       "       'Micax X750', 'Nokia 106', 'Blacear C-99', 'Easyfone Royale',\n",
       "       'Kechaoda K115', 'Kechaoda K116', 'Lava Gem', 'MTR Ferrari',\n",
       "       'Itel IT', 'BlackZone M4', 'Lava Z41', 'Karbonn k24+',\n",
       "       'Itel Magic', 'Salora Volt', 'Micax X381', 'Lenovo A5',\n",
       "       'OnePlus 6T', 'Micax Canvas', 'Vivo V15', 'Lava Prime',\n",
       "       'Kechaoda K2', 'Moto One', 'LG Q7+', 'Kechaoda A32', 'Vivo V9',\n",
       "       'Vivo NEX', 'Honor 9', 'Lenovo VIBE', 'Vivo Y19', 'OPPO A1K',\n",
       "       'Realme 3', 'Itel it2161', 'Jivi N3', 'Salora Vishaal',\n",
       "       'Nokia 2.3', 'BlackZone ATOM', 'Muphone M380', 'Blacerry Evolve',\n",
       "       'Mi 10', 'Huawei Y9', 'Micax X1i-2017', 'Nokia TA-1010/105',\n",
       "       'Karbonn KX23', 'Peace P4', 'Karbonn K334', 'Nokia 3310',\n",
       "       'Micax X1i-Pop', 'Karbonn K24'], dtype=object)"
      ]
     },
     "execution_count": 52,
     "metadata": {},
     "output_type": "execute_result"
    }
   ],
   "source": [
    "Phone['Brand me'].unique()"
   ]
  },
  {
   "cell_type": "markdown",
   "id": "8ceaa6ff-e1f3-43ab-82bd-10ed2a9ed029",
   "metadata": {},
   "source": [
    "F-fook(1 row),\n",
    "Gee -> s11 something -> 6 rows,\n",
    "I Kall ,\n",
    "ITEL, Itel ,\n",
    "JIVI, jivi ,\n",
    "MI3 -> 1 row rest all Mi,\n",
    "MTR ,\n",
    "Tecno(many rows), tecno(1row)"
   ]
  },
  {
   "cell_type": "code",
   "execution_count": 53,
   "id": "9520bf45-0648-473e-bde5-f21bddcd38fd",
   "metadata": {},
   "outputs": [],
   "source": [
    "#dropping f-fook phone because there is no such brand name existing"
   ]
  },
  {
   "cell_type": "code",
   "execution_count": 54,
   "id": "8c40d909-e25f-4ee2-baf5-70c594945346",
   "metadata": {},
   "outputs": [
    {
     "data": {
      "text/html": [
       "<div>\n",
       "<style scoped>\n",
       "    .dataframe tbody tr th:only-of-type {\n",
       "        vertical-align: middle;\n",
       "    }\n",
       "\n",
       "    .dataframe tbody tr th {\n",
       "        vertical-align: top;\n",
       "    }\n",
       "\n",
       "    .dataframe thead th {\n",
       "        text-align: right;\n",
       "    }\n",
       "</style>\n",
       "<table border=\"1\" class=\"dataframe\">\n",
       "  <thead>\n",
       "    <tr style=\"text-align: right;\">\n",
       "      <th></th>\n",
       "      <th>Unnamed: 0</th>\n",
       "      <th>Brand me</th>\n",
       "      <th>Ratings</th>\n",
       "      <th>RAM</th>\n",
       "      <th>Mobile_Size</th>\n",
       "      <th>Primary_Cam</th>\n",
       "      <th>Selfi_Cam</th>\n",
       "      <th>Battery_Power</th>\n",
       "      <th>Price</th>\n",
       "    </tr>\n",
       "  </thead>\n",
       "  <tbody>\n",
       "  </tbody>\n",
       "</table>\n",
       "</div>"
      ],
      "text/plain": [
       "Empty DataFrame\n",
       "Columns: [Unnamed: 0, Brand me, Ratings, RAM, Mobile_Size, Primary_Cam, Selfi_Cam, Battery_Power, Price]\n",
       "Index: []"
      ]
     },
     "execution_count": 54,
     "metadata": {},
     "output_type": "execute_result"
    }
   ],
   "source": [
    "Phone[Phone['Brand me'] == \"F-fook\"]"
   ]
  },
  {
   "cell_type": "code",
   "execution_count": 55,
   "id": "4bed310b-7b41-4cac-9336-692ee3d086b8",
   "metadata": {},
   "outputs": [],
   "source": [
    "#replacing brand name Gee to Doogee"
   ]
  },
  {
   "cell_type": "code",
   "execution_count": 56,
   "id": "f3a17825-e288-4093-8759-bc06448b336e",
   "metadata": {},
   "outputs": [],
   "source": [
    "Phone['Brand me']=Phone['Brand me'].str.replace('Gee','Doogee')"
   ]
  },
  {
   "cell_type": "code",
   "execution_count": 57,
   "id": "8e7c4cbd-e610-4244-adc2-bba4230412eb",
   "metadata": {},
   "outputs": [],
   "source": [
    "Phone['Brand me']=Phone['Brand me'].str.replace('I Kall','IKall')"
   ]
  },
  {
   "cell_type": "code",
   "execution_count": 58,
   "id": "862ac84a-0ed9-4c60-aee3-8201138387db",
   "metadata": {},
   "outputs": [],
   "source": [
    "Phone['Brand me']=Phone['Brand me'].str.replace('ITEL','Itel')"
   ]
  },
  {
   "cell_type": "code",
   "execution_count": 59,
   "id": "ffd8e34e-cdce-4fbb-b139-f3dcda494237",
   "metadata": {},
   "outputs": [],
   "source": [
    "Phone['Brand me']=Phone['Brand me'].str.replace('JIVI','Jivi')"
   ]
  },
  {
   "cell_type": "code",
   "execution_count": 60,
   "id": "c95215ee-d663-49aa-a352-34d8d45532af",
   "metadata": {},
   "outputs": [],
   "source": [
    "Phone['Brand me']=Phone['Brand me'].str.replace('jivi','Jivi')"
   ]
  },
  {
   "cell_type": "code",
   "execution_count": 61,
   "id": "dec4b45a-0876-4e21-b4a9-939984a072b7",
   "metadata": {},
   "outputs": [],
   "source": [
    "Phone['Brand me']=Phone['Brand me'].str.replace('MI3','Mi')"
   ]
  },
  {
   "cell_type": "code",
   "execution_count": 62,
   "id": "7e885981-e3e4-418d-8347-b1dbd267b982",
   "metadata": {},
   "outputs": [],
   "source": [
    "Phone['Brand me']=Phone['Brand me'].str.replace('tecno','Tecno')"
   ]
  },
  {
   "cell_type": "code",
   "execution_count": 63,
   "id": "e230dc1e-b16a-4d74-af70-12e971912f6a",
   "metadata": {},
   "outputs": [
    {
     "data": {
      "text/plain": [
       "array(['LG V30+', 'IKall', 'Nokia 105', 'Samsung Galaxy', 'POCO F1',\n",
       "       'Apple iPhone', 'OPPO A9', 'Megus Ultra', 'Jmax M40',\n",
       "       'Easyfone Star', 'OnePlus 7', 'OPPO A5s', 'Micax X742',\n",
       "       'InFocus Selfie', 'LG G8X', 'Doogee A1', 'Tecno Camon',\n",
       "       'Micax X749', 'Karbonn KX21', 'Inovu A9', 'LG Q', 'OPPO R17',\n",
       "       'Meizu C9', 'Jivi R21Plus', 'Lava 34', 'Black Shark',\n",
       "       'InFocus POWER', 'Blacear B5', 'Alcatel 5V', 'Redmi Note',\n",
       "       'Redmi K20', 'Doogee F103', 'Jivi 12M', 'Nexus 6P', 'OPPO F15',\n",
       "       'LG Q6', 'OPPO K1', 'OPPO Reno2', 'Jivi N9030', 'Doogee S11',\n",
       "       'Jivi N300', 'Ssky S9007', 'Q-Tel Q8', 'OPPO A3s', 'OPPO A83',\n",
       "       'Vivo Y66', 'Vivo V7', 'Vivo X21', 'Mi A3', 'Nokia 216/216',\n",
       "       'Jivi N3720', 'BlackZone Neo-B', 'Lava One', 'Micax Flash',\n",
       "       'Vivo Y81', 'Mi (Metallic', 'Grabo G100', 'MTR MT',\n",
       "       'Karbonn Titanium', 'Nokia 7.2', 'Lava Z61', 'MTR Ba',\n",
       "       'Karbonn K338N', 'MTR Shakti', 'Honor 8X', 'Vivo S1', 'Tork T13',\n",
       "       'Honor 9N', 'Mi A2', 'Realme C2', 'Lava A1', 'Itel It',\n",
       "       'Easyfone Elite', 'InFocus Hero', 'Vivo V17Pro', 'Itel It2171',\n",
       "       'GreenBerry 312', 'MTR Sima', 'Redmi 8A', 'Vivo Y17', 'OPPO F11',\n",
       "       'I kall', 'OPPO F9', 'Karbonn K5', 'Vivo V7+', 'Peace FM1',\n",
       "       'Itel Muzik', 'Lava A7', 'Forme Duos', 'Kechaoda K35', 'Mafe Leo',\n",
       "       'Ssky S3500', 'Jivi Ba', 'Honor Play', 'Infinix Hot', 'Realme rzo',\n",
       "       'Realme 6', 'POCO X2', 'Vivo U10', 'Motorola One', 'OPPO A12',\n",
       "       'OPPO A31', 'Vivo Y15', 'Vivo Y12', 'Karbonn K451', 'Micax X512',\n",
       "       'Kechaoda K10', 'OnePlus 7T', 'Realme X2', 'Honor 9X', 'Vivo Y91i',\n",
       "       'iQOO 3', 'Vivo V17', 'Kechaoda A27', 'Micax X421', 'Google Pixel',\n",
       "       'Good One', 'Karbonn K140', 'Mi Mix', 'Vivo V19', 'Micax X1i',\n",
       "       'Honor 20', 'OPPO Reno3', 'OPPO Reno', 'Realme 2', 'Hicell C2',\n",
       "       'Micax X750', 'Nokia 106', 'Blacear C-99', 'Easyfone Royale',\n",
       "       'Kechaoda K115', 'Kechaoda K116', 'Lava Gem', 'MTR Ferrari',\n",
       "       'Itel IT', 'BlackZone M4', 'Lava Z41', 'Karbonn k24+',\n",
       "       'Itel Magic', 'Salora Volt', 'Micax X381', 'Lenovo A5',\n",
       "       'OnePlus 6T', 'Micax Canvas', 'Vivo V15', 'Lava Prime',\n",
       "       'Kechaoda K2', 'Moto One', 'LG Q7+', 'Kechaoda A32', 'Vivo V9',\n",
       "       'Vivo NEX', 'Honor 9', 'Lenovo VIBE', 'Vivo Y19', 'OPPO A1K',\n",
       "       'Realme 3', 'Itel it2161', 'Jivi N3', 'Salora Vishaal',\n",
       "       'Nokia 2.3', 'BlackZone ATOM', 'Muphone M380', 'Blacerry Evolve',\n",
       "       'Mi 10', 'Huawei Y9', 'Micax X1i-2017', 'Nokia TA-1010/105',\n",
       "       'Karbonn KX23', 'Peace P4', 'Karbonn K334', 'Nokia 3310',\n",
       "       'Micax X1i-Pop', 'Karbonn K24'], dtype=object)"
      ]
     },
     "execution_count": 63,
     "metadata": {},
     "output_type": "execute_result"
    }
   ],
   "source": [
    "Phone['Brand me'].unique()"
   ]
  },
  {
   "cell_type": "code",
   "execution_count": 64,
   "id": "3d7e3f78-477d-4f33-8cc2-d154a3ef7f87",
   "metadata": {},
   "outputs": [
    {
     "data": {
      "text/plain": [
       "(521, 9)"
      ]
     },
     "execution_count": 64,
     "metadata": {},
     "output_type": "execute_result"
    }
   ],
   "source": [
    "Phone.shape"
   ]
  },
  {
   "cell_type": "code",
   "execution_count": 65,
   "id": "88fbb28a-cb3d-43ba-8ec0-b0ad9f977631",
   "metadata": {},
   "outputs": [],
   "source": [
    "#keeping only brand names\n",
    "Phone['Brand me']=Phone['Brand me'].str.split(' ').str.slice(0,1).str.join(' ')"
   ]
  },
  {
   "cell_type": "code",
   "execution_count": 66,
   "id": "d288997c-b159-4aeb-899f-2cb00af265c5",
   "metadata": {},
   "outputs": [
    {
     "data": {
      "text/plain": [
       "array(['LG', 'IKall', 'Nokia', 'Samsung', 'POCO', 'Apple', 'OPPO',\n",
       "       'Megus', 'Jmax', 'Easyfone', 'OnePlus', 'Micax', 'InFocus',\n",
       "       'Doogee', 'Tecno', 'Karbonn', 'Inovu', 'Meizu', 'Jivi', 'Lava',\n",
       "       'Black', 'Blacear', 'Alcatel', 'Redmi', 'Nexus', 'Ssky', 'Q-Tel',\n",
       "       'Vivo', 'Mi', 'BlackZone', 'Grabo', 'MTR', 'Honor', 'Tork',\n",
       "       'Realme', 'Itel', 'GreenBerry', 'I', 'Peace', 'Forme', 'Kechaoda',\n",
       "       'Mafe', 'Infinix', 'Motorola', 'iQOO', 'Google', 'Good', 'Hicell',\n",
       "       'Salora', 'Lenovo', 'Moto', 'Muphone', 'Blacerry', 'Huawei'],\n",
       "      dtype=object)"
      ]
     },
     "execution_count": 66,
     "metadata": {},
     "output_type": "execute_result"
    }
   ],
   "source": [
    "Phone['Brand me'].unique()"
   ]
  },
  {
   "cell_type": "code",
   "execution_count": 67,
   "id": "f6d2f4ea-88c6-4ead-a444-7de2bb998017",
   "metadata": {},
   "outputs": [
    {
     "data": {
      "text/html": [
       "<div>\n",
       "<style scoped>\n",
       "    .dataframe tbody tr th:only-of-type {\n",
       "        vertical-align: middle;\n",
       "    }\n",
       "\n",
       "    .dataframe tbody tr th {\n",
       "        vertical-align: top;\n",
       "    }\n",
       "\n",
       "    .dataframe thead th {\n",
       "        text-align: right;\n",
       "    }\n",
       "</style>\n",
       "<table border=\"1\" class=\"dataframe\">\n",
       "  <thead>\n",
       "    <tr style=\"text-align: right;\">\n",
       "      <th></th>\n",
       "      <th>Unnamed: 0</th>\n",
       "      <th>Brand me</th>\n",
       "      <th>Ratings</th>\n",
       "      <th>RAM</th>\n",
       "      <th>Mobile_Size</th>\n",
       "      <th>Primary_Cam</th>\n",
       "      <th>Selfi_Cam</th>\n",
       "      <th>Battery_Power</th>\n",
       "      <th>Price</th>\n",
       "    </tr>\n",
       "  </thead>\n",
       "  <tbody>\n",
       "    <tr>\n",
       "      <th>0</th>\n",
       "      <td>0</td>\n",
       "      <td>LG</td>\n",
       "      <td>4.3</td>\n",
       "      <td>4.0</td>\n",
       "      <td>6.00</td>\n",
       "      <td>48</td>\n",
       "      <td>13</td>\n",
       "      <td>4000</td>\n",
       "      <td>24999.0</td>\n",
       "    </tr>\n",
       "    <tr>\n",
       "      <th>1</th>\n",
       "      <td>1</td>\n",
       "      <td>IKall</td>\n",
       "      <td>3.4</td>\n",
       "      <td>6.0</td>\n",
       "      <td>4.50</td>\n",
       "      <td>48</td>\n",
       "      <td>12</td>\n",
       "      <td>4000</td>\n",
       "      <td>15999.0</td>\n",
       "    </tr>\n",
       "    <tr>\n",
       "      <th>2</th>\n",
       "      <td>2</td>\n",
       "      <td>Nokia</td>\n",
       "      <td>4.3</td>\n",
       "      <td>4.0</td>\n",
       "      <td>4.50</td>\n",
       "      <td>64</td>\n",
       "      <td>16</td>\n",
       "      <td>4000</td>\n",
       "      <td>15000.0</td>\n",
       "    </tr>\n",
       "    <tr>\n",
       "      <th>3</th>\n",
       "      <td>3</td>\n",
       "      <td>Samsung</td>\n",
       "      <td>4.4</td>\n",
       "      <td>6.0</td>\n",
       "      <td>6.40</td>\n",
       "      <td>48</td>\n",
       "      <td>15</td>\n",
       "      <td>3800</td>\n",
       "      <td>18999.0</td>\n",
       "    </tr>\n",
       "    <tr>\n",
       "      <th>4</th>\n",
       "      <td>4</td>\n",
       "      <td>POCO</td>\n",
       "      <td>4.5</td>\n",
       "      <td>6.0</td>\n",
       "      <td>6.18</td>\n",
       "      <td>35</td>\n",
       "      <td>15</td>\n",
       "      <td>3800</td>\n",
       "      <td>18999.0</td>\n",
       "    </tr>\n",
       "  </tbody>\n",
       "</table>\n",
       "</div>"
      ],
      "text/plain": [
       "   Unnamed: 0 Brand me  Ratings  RAM  Mobile_Size  Primary_Cam  Selfi_Cam  \\\n",
       "0           0       LG      4.3  4.0         6.00           48         13   \n",
       "1           1    IKall      3.4  6.0         4.50           48         12   \n",
       "2           2    Nokia      4.3  4.0         4.50           64         16   \n",
       "3           3  Samsung      4.4  6.0         6.40           48         15   \n",
       "4           4     POCO      4.5  6.0         6.18           35         15   \n",
       "\n",
       "   Battery_Power    Price  \n",
       "0           4000  24999.0  \n",
       "1           4000  15999.0  \n",
       "2           4000  15000.0  \n",
       "3           3800  18999.0  \n",
       "4           3800  18999.0  "
      ]
     },
     "execution_count": 67,
     "metadata": {},
     "output_type": "execute_result"
    }
   ],
   "source": [
    "Phone.head()"
   ]
  },
  {
   "cell_type": "code",
   "execution_count": 68,
   "id": "9f55ad9d-9e32-433a-9186-15246e49a73c",
   "metadata": {},
   "outputs": [
    {
     "name": "stdout",
     "output_type": "stream",
     "text": [
      "<class 'pandas.core.frame.DataFrame'>\n",
      "Index: 521 entries, 0 to 835\n",
      "Data columns (total 9 columns):\n",
      " #   Column         Non-Null Count  Dtype  \n",
      "---  ------         --------------  -----  \n",
      " 0   Unnamed: 0     521 non-null    int64  \n",
      " 1   Brand me       521 non-null    object \n",
      " 2   Ratings        521 non-null    float64\n",
      " 3   RAM            521 non-null    float64\n",
      " 4   Mobile_Size    521 non-null    float64\n",
      " 5   Primary_Cam    521 non-null    int64  \n",
      " 6   Selfi_Cam      521 non-null    int32  \n",
      " 7   Battery_Power  521 non-null    int64  \n",
      " 8   Price          521 non-null    float64\n",
      "dtypes: float64(4), int32(1), int64(3), object(1)\n",
      "memory usage: 38.7+ KB\n"
     ]
    }
   ],
   "source": [
    "Phone.info()"
   ]
  },
  {
   "cell_type": "code",
   "execution_count": 69,
   "id": "85071e69-a8b7-4014-94f2-53bdb5a164dd",
   "metadata": {},
   "outputs": [
    {
     "data": {
      "text/plain": [
       "(521, 9)"
      ]
     },
     "execution_count": 69,
     "metadata": {},
     "output_type": "execute_result"
    }
   ],
   "source": [
    "Phone.shape"
   ]
  },
  {
   "cell_type": "code",
   "execution_count": 70,
   "id": "0cd734e4-a438-45c4-8b05-b672e33ed04b",
   "metadata": {},
   "outputs": [],
   "source": [
    "Phone_cleaned=Phone.reset_index(drop=True)"
   ]
  },
  {
   "cell_type": "code",
   "execution_count": 71,
   "id": "59224f30-0096-4b61-a81c-3385dc8d3d84",
   "metadata": {},
   "outputs": [
    {
     "data": {
      "text/plain": [
       "(521, 9)"
      ]
     },
     "execution_count": 71,
     "metadata": {},
     "output_type": "execute_result"
    }
   ],
   "source": [
    "Phone_cleaned.shape"
   ]
  },
  {
   "cell_type": "code",
   "execution_count": 73,
   "id": "1c861b39-5a10-43b9-a759-22b3512a58f5",
   "metadata": {},
   "outputs": [],
   "source": [
    "Phone_cleaned=Phone_cleaned.drop('Unnamed: 0', axis=1)"
   ]
  },
  {
   "cell_type": "code",
   "execution_count": 74,
   "id": "68a7e9e8-6aab-470a-9c02-20f1d00cc4bc",
   "metadata": {},
   "outputs": [
    {
     "data": {
      "text/plain": [
       "(521, 8)"
      ]
     },
     "execution_count": 74,
     "metadata": {},
     "output_type": "execute_result"
    }
   ],
   "source": [
    "Phone_cleaned.shape"
   ]
  },
  {
   "cell_type": "markdown",
   "id": "ab746b18-4155-40ab-82af-428f675cca17",
   "metadata": {},
   "source": [
    "Our data is cleaned and we now save it to a new excel file"
   ]
  },
  {
   "cell_type": "code",
   "execution_count": 75,
   "id": "a709effe-21cc-4795-ac9e-887fc34f6cc6",
   "metadata": {},
   "outputs": [],
   "source": [
    "Phone_cleaned.to_csv('Phone_cleaned_dataset.csv')"
   ]
  },
  {
   "cell_type": "code",
   "execution_count": null,
   "id": "27b3446b-4cf0-4fb3-bf57-f464e2b9b031",
   "metadata": {},
   "outputs": [],
   "source": []
  }
 ],
 "metadata": {
  "kernelspec": {
   "display_name": "Python 3 (ipykernel)",
   "language": "python",
   "name": "python3"
  },
  "language_info": {
   "codemirror_mode": {
    "name": "ipython",
    "version": 3
   },
   "file_extension": ".py",
   "mimetype": "text/x-python",
   "name": "python",
   "nbconvert_exporter": "python",
   "pygments_lexer": "ipython3",
   "version": "3.12.3"
  }
 },
 "nbformat": 4,
 "nbformat_minor": 5
}
