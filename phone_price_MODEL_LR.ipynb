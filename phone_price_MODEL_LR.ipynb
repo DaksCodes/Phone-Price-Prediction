{
 "cells": [
  {
   "cell_type": "code",
   "execution_count": 1,
   "id": "864f36f0-892b-4871-9646-f5c67268e46d",
   "metadata": {},
   "outputs": [],
   "source": [
    "import numpy as np\n",
    "import pandas as pd\n",
    "import matplotlib.pyplot as plt\n",
    "import seaborn as sns"
   ]
  },
  {
   "cell_type": "code",
   "execution_count": 2,
   "id": "98c16fd8-f812-473b-b593-0edc55977b2e",
   "metadata": {},
   "outputs": [],
   "source": [
    "phone=pd.read_csv(r'C:\\Users\\hp\\AppData\\Local\\Programs\\Python\\Python312\\Scripts\\Anveshanproject\\Phone_cleaned_dataset.csv')"
   ]
  },
  {
   "cell_type": "code",
   "execution_count": 3,
   "id": "9729580f-0270-4889-8518-3c235c33dd64",
   "metadata": {},
   "outputs": [
    {
     "data": {
      "text/html": [
       "<div>\n",
       "<style scoped>\n",
       "    .dataframe tbody tr th:only-of-type {\n",
       "        vertical-align: middle;\n",
       "    }\n",
       "\n",
       "    .dataframe tbody tr th {\n",
       "        vertical-align: top;\n",
       "    }\n",
       "\n",
       "    .dataframe thead th {\n",
       "        text-align: right;\n",
       "    }\n",
       "</style>\n",
       "<table border=\"1\" class=\"dataframe\">\n",
       "  <thead>\n",
       "    <tr style=\"text-align: right;\">\n",
       "      <th></th>\n",
       "      <th>Unnamed: 0</th>\n",
       "      <th>Brand me</th>\n",
       "      <th>Ratings</th>\n",
       "      <th>RAM</th>\n",
       "      <th>Mobile_Size</th>\n",
       "      <th>Primary_Cam</th>\n",
       "      <th>Selfi_Cam</th>\n",
       "      <th>Battery_Power</th>\n",
       "      <th>Price</th>\n",
       "    </tr>\n",
       "  </thead>\n",
       "  <tbody>\n",
       "    <tr>\n",
       "      <th>0</th>\n",
       "      <td>0</td>\n",
       "      <td>LG</td>\n",
       "      <td>4.3</td>\n",
       "      <td>4.0</td>\n",
       "      <td>6.00</td>\n",
       "      <td>48</td>\n",
       "      <td>13</td>\n",
       "      <td>4000</td>\n",
       "      <td>24999.0</td>\n",
       "    </tr>\n",
       "    <tr>\n",
       "      <th>1</th>\n",
       "      <td>1</td>\n",
       "      <td>IKall</td>\n",
       "      <td>3.4</td>\n",
       "      <td>6.0</td>\n",
       "      <td>4.50</td>\n",
       "      <td>48</td>\n",
       "      <td>12</td>\n",
       "      <td>4000</td>\n",
       "      <td>15999.0</td>\n",
       "    </tr>\n",
       "    <tr>\n",
       "      <th>2</th>\n",
       "      <td>2</td>\n",
       "      <td>Nokia</td>\n",
       "      <td>4.3</td>\n",
       "      <td>4.0</td>\n",
       "      <td>4.50</td>\n",
       "      <td>64</td>\n",
       "      <td>16</td>\n",
       "      <td>4000</td>\n",
       "      <td>15000.0</td>\n",
       "    </tr>\n",
       "    <tr>\n",
       "      <th>3</th>\n",
       "      <td>3</td>\n",
       "      <td>Samsung</td>\n",
       "      <td>4.4</td>\n",
       "      <td>6.0</td>\n",
       "      <td>6.40</td>\n",
       "      <td>48</td>\n",
       "      <td>15</td>\n",
       "      <td>3800</td>\n",
       "      <td>18999.0</td>\n",
       "    </tr>\n",
       "    <tr>\n",
       "      <th>4</th>\n",
       "      <td>4</td>\n",
       "      <td>POCO</td>\n",
       "      <td>4.5</td>\n",
       "      <td>6.0</td>\n",
       "      <td>6.18</td>\n",
       "      <td>35</td>\n",
       "      <td>15</td>\n",
       "      <td>3800</td>\n",
       "      <td>18999.0</td>\n",
       "    </tr>\n",
       "  </tbody>\n",
       "</table>\n",
       "</div>"
      ],
      "text/plain": [
       "   Unnamed: 0 Brand me  Ratings  RAM  Mobile_Size  Primary_Cam  Selfi_Cam  \\\n",
       "0           0       LG      4.3  4.0         6.00           48         13   \n",
       "1           1    IKall      3.4  6.0         4.50           48         12   \n",
       "2           2    Nokia      4.3  4.0         4.50           64         16   \n",
       "3           3  Samsung      4.4  6.0         6.40           48         15   \n",
       "4           4     POCO      4.5  6.0         6.18           35         15   \n",
       "\n",
       "   Battery_Power    Price  \n",
       "0           4000  24999.0  \n",
       "1           4000  15999.0  \n",
       "2           4000  15000.0  \n",
       "3           3800  18999.0  \n",
       "4           3800  18999.0  "
      ]
     },
     "execution_count": 3,
     "metadata": {},
     "output_type": "execute_result"
    }
   ],
   "source": [
    "phone.head()"
   ]
  },
  {
   "cell_type": "code",
   "execution_count": 4,
   "id": "67948a52-db7d-4598-a535-dd052f5424ac",
   "metadata": {},
   "outputs": [
    {
     "name": "stdout",
     "output_type": "stream",
     "text": [
      "<class 'pandas.core.frame.DataFrame'>\n",
      "RangeIndex: 521 entries, 0 to 520\n",
      "Data columns (total 9 columns):\n",
      " #   Column         Non-Null Count  Dtype  \n",
      "---  ------         --------------  -----  \n",
      " 0   Unnamed: 0     521 non-null    int64  \n",
      " 1   Brand me       521 non-null    object \n",
      " 2   Ratings        521 non-null    float64\n",
      " 3   RAM            521 non-null    float64\n",
      " 4   Mobile_Size    521 non-null    float64\n",
      " 5   Primary_Cam    521 non-null    int64  \n",
      " 6   Selfi_Cam      521 non-null    int64  \n",
      " 7   Battery_Power  521 non-null    int64  \n",
      " 8   Price          521 non-null    float64\n",
      "dtypes: float64(4), int64(4), object(1)\n",
      "memory usage: 36.8+ KB\n"
     ]
    }
   ],
   "source": [
    "phone.info()"
   ]
  },
  {
   "cell_type": "code",
   "execution_count": 5,
   "id": "a1687998-c401-4144-8030-d99d5a6940d5",
   "metadata": {},
   "outputs": [
    {
     "data": {
      "text/plain": [
       "(521, 9)"
      ]
     },
     "execution_count": 5,
     "metadata": {},
     "output_type": "execute_result"
    }
   ],
   "source": [
    "phone.shape"
   ]
  },
  {
   "cell_type": "markdown",
   "id": "5fa8aa68-8599-4fc5-ac90-e45c90af7b55",
   "metadata": {},
   "source": [
    "dropping the ratings and unnamed columns"
   ]
  },
  {
   "cell_type": "code",
   "execution_count": 6,
   "id": "a19f7958-bf05-4fb2-99fc-96feea7dfba6",
   "metadata": {},
   "outputs": [],
   "source": [
    "phone=phone.drop('Ratings',axis=1)"
   ]
  },
  {
   "cell_type": "code",
   "execution_count": 7,
   "id": "087c31c1-0787-4b44-9019-286fcfd8e851",
   "metadata": {},
   "outputs": [
    {
     "data": {
      "text/html": [
       "<div>\n",
       "<style scoped>\n",
       "    .dataframe tbody tr th:only-of-type {\n",
       "        vertical-align: middle;\n",
       "    }\n",
       "\n",
       "    .dataframe tbody tr th {\n",
       "        vertical-align: top;\n",
       "    }\n",
       "\n",
       "    .dataframe thead th {\n",
       "        text-align: right;\n",
       "    }\n",
       "</style>\n",
       "<table border=\"1\" class=\"dataframe\">\n",
       "  <thead>\n",
       "    <tr style=\"text-align: right;\">\n",
       "      <th></th>\n",
       "      <th>Unnamed: 0</th>\n",
       "      <th>Brand me</th>\n",
       "      <th>RAM</th>\n",
       "      <th>Mobile_Size</th>\n",
       "      <th>Primary_Cam</th>\n",
       "      <th>Selfi_Cam</th>\n",
       "      <th>Battery_Power</th>\n",
       "      <th>Price</th>\n",
       "    </tr>\n",
       "  </thead>\n",
       "  <tbody>\n",
       "    <tr>\n",
       "      <th>0</th>\n",
       "      <td>0</td>\n",
       "      <td>LG</td>\n",
       "      <td>4.0</td>\n",
       "      <td>6.00</td>\n",
       "      <td>48</td>\n",
       "      <td>13</td>\n",
       "      <td>4000</td>\n",
       "      <td>24999.0</td>\n",
       "    </tr>\n",
       "    <tr>\n",
       "      <th>1</th>\n",
       "      <td>1</td>\n",
       "      <td>IKall</td>\n",
       "      <td>6.0</td>\n",
       "      <td>4.50</td>\n",
       "      <td>48</td>\n",
       "      <td>12</td>\n",
       "      <td>4000</td>\n",
       "      <td>15999.0</td>\n",
       "    </tr>\n",
       "    <tr>\n",
       "      <th>2</th>\n",
       "      <td>2</td>\n",
       "      <td>Nokia</td>\n",
       "      <td>4.0</td>\n",
       "      <td>4.50</td>\n",
       "      <td>64</td>\n",
       "      <td>16</td>\n",
       "      <td>4000</td>\n",
       "      <td>15000.0</td>\n",
       "    </tr>\n",
       "    <tr>\n",
       "      <th>3</th>\n",
       "      <td>3</td>\n",
       "      <td>Samsung</td>\n",
       "      <td>6.0</td>\n",
       "      <td>6.40</td>\n",
       "      <td>48</td>\n",
       "      <td>15</td>\n",
       "      <td>3800</td>\n",
       "      <td>18999.0</td>\n",
       "    </tr>\n",
       "    <tr>\n",
       "      <th>4</th>\n",
       "      <td>4</td>\n",
       "      <td>POCO</td>\n",
       "      <td>6.0</td>\n",
       "      <td>6.18</td>\n",
       "      <td>35</td>\n",
       "      <td>15</td>\n",
       "      <td>3800</td>\n",
       "      <td>18999.0</td>\n",
       "    </tr>\n",
       "    <tr>\n",
       "      <th>...</th>\n",
       "      <td>...</td>\n",
       "      <td>...</td>\n",
       "      <td>...</td>\n",
       "      <td>...</td>\n",
       "      <td>...</td>\n",
       "      <td>...</td>\n",
       "      <td>...</td>\n",
       "      <td>...</td>\n",
       "    </tr>\n",
       "    <tr>\n",
       "      <th>516</th>\n",
       "      <td>516</td>\n",
       "      <td>Samsung</td>\n",
       "      <td>4.0</td>\n",
       "      <td>6.20</td>\n",
       "      <td>35</td>\n",
       "      <td>8</td>\n",
       "      <td>3500</td>\n",
       "      <td>53990.0</td>\n",
       "    </tr>\n",
       "    <tr>\n",
       "      <th>517</th>\n",
       "      <td>517</td>\n",
       "      <td>Black</td>\n",
       "      <td>6.0</td>\n",
       "      <td>6.39</td>\n",
       "      <td>48</td>\n",
       "      <td>12</td>\n",
       "      <td>3800</td>\n",
       "      <td>31999.0</td>\n",
       "    </tr>\n",
       "    <tr>\n",
       "      <th>518</th>\n",
       "      <td>518</td>\n",
       "      <td>Karbonn</td>\n",
       "      <td>6.0</td>\n",
       "      <td>4.54</td>\n",
       "      <td>48</td>\n",
       "      <td>12</td>\n",
       "      <td>2800</td>\n",
       "      <td>1299.0</td>\n",
       "    </tr>\n",
       "    <tr>\n",
       "      <th>519</th>\n",
       "      <td>519</td>\n",
       "      <td>Alcatel</td>\n",
       "      <td>3.0</td>\n",
       "      <td>6.20</td>\n",
       "      <td>48</td>\n",
       "      <td>1</td>\n",
       "      <td>3800</td>\n",
       "      <td>9790.0</td>\n",
       "    </tr>\n",
       "    <tr>\n",
       "      <th>520</th>\n",
       "      <td>520</td>\n",
       "      <td>Blacear</td>\n",
       "      <td>6.0</td>\n",
       "      <td>4.50</td>\n",
       "      <td>64</td>\n",
       "      <td>15</td>\n",
       "      <td>1050</td>\n",
       "      <td>799.0</td>\n",
       "    </tr>\n",
       "  </tbody>\n",
       "</table>\n",
       "<p>521 rows × 8 columns</p>\n",
       "</div>"
      ],
      "text/plain": [
       "     Unnamed: 0 Brand me  RAM  Mobile_Size  Primary_Cam  Selfi_Cam  \\\n",
       "0             0       LG  4.0         6.00           48         13   \n",
       "1             1    IKall  6.0         4.50           48         12   \n",
       "2             2    Nokia  4.0         4.50           64         16   \n",
       "3             3  Samsung  6.0         6.40           48         15   \n",
       "4             4     POCO  6.0         6.18           35         15   \n",
       "..          ...      ...  ...          ...          ...        ...   \n",
       "516         516  Samsung  4.0         6.20           35          8   \n",
       "517         517    Black  6.0         6.39           48         12   \n",
       "518         518  Karbonn  6.0         4.54           48         12   \n",
       "519         519  Alcatel  3.0         6.20           48          1   \n",
       "520         520  Blacear  6.0         4.50           64         15   \n",
       "\n",
       "     Battery_Power    Price  \n",
       "0             4000  24999.0  \n",
       "1             4000  15999.0  \n",
       "2             4000  15000.0  \n",
       "3             3800  18999.0  \n",
       "4             3800  18999.0  \n",
       "..             ...      ...  \n",
       "516           3500  53990.0  \n",
       "517           3800  31999.0  \n",
       "518           2800   1299.0  \n",
       "519           3800   9790.0  \n",
       "520           1050    799.0  \n",
       "\n",
       "[521 rows x 8 columns]"
      ]
     },
     "execution_count": 7,
     "metadata": {},
     "output_type": "execute_result"
    }
   ],
   "source": [
    "phone"
   ]
  },
  {
   "cell_type": "code",
   "execution_count": 8,
   "id": "e6338082-42ab-4bb5-ae09-6afa7dcb3b07",
   "metadata": {},
   "outputs": [],
   "source": [
    "phone=phone.drop('Unnamed: 0',axis=1)"
   ]
  },
  {
   "cell_type": "code",
   "execution_count": 9,
   "id": "fcdd963e-2eb8-45ac-87a8-9b1d676193d6",
   "metadata": {},
   "outputs": [
    {
     "data": {
      "text/html": [
       "<div>\n",
       "<style scoped>\n",
       "    .dataframe tbody tr th:only-of-type {\n",
       "        vertical-align: middle;\n",
       "    }\n",
       "\n",
       "    .dataframe tbody tr th {\n",
       "        vertical-align: top;\n",
       "    }\n",
       "\n",
       "    .dataframe thead th {\n",
       "        text-align: right;\n",
       "    }\n",
       "</style>\n",
       "<table border=\"1\" class=\"dataframe\">\n",
       "  <thead>\n",
       "    <tr style=\"text-align: right;\">\n",
       "      <th></th>\n",
       "      <th>Brand me</th>\n",
       "      <th>RAM</th>\n",
       "      <th>Mobile_Size</th>\n",
       "      <th>Primary_Cam</th>\n",
       "      <th>Selfi_Cam</th>\n",
       "      <th>Battery_Power</th>\n",
       "      <th>Price</th>\n",
       "    </tr>\n",
       "  </thead>\n",
       "  <tbody>\n",
       "    <tr>\n",
       "      <th>0</th>\n",
       "      <td>LG</td>\n",
       "      <td>4.0</td>\n",
       "      <td>6.00</td>\n",
       "      <td>48</td>\n",
       "      <td>13</td>\n",
       "      <td>4000</td>\n",
       "      <td>24999.0</td>\n",
       "    </tr>\n",
       "    <tr>\n",
       "      <th>1</th>\n",
       "      <td>IKall</td>\n",
       "      <td>6.0</td>\n",
       "      <td>4.50</td>\n",
       "      <td>48</td>\n",
       "      <td>12</td>\n",
       "      <td>4000</td>\n",
       "      <td>15999.0</td>\n",
       "    </tr>\n",
       "    <tr>\n",
       "      <th>2</th>\n",
       "      <td>Nokia</td>\n",
       "      <td>4.0</td>\n",
       "      <td>4.50</td>\n",
       "      <td>64</td>\n",
       "      <td>16</td>\n",
       "      <td>4000</td>\n",
       "      <td>15000.0</td>\n",
       "    </tr>\n",
       "    <tr>\n",
       "      <th>3</th>\n",
       "      <td>Samsung</td>\n",
       "      <td>6.0</td>\n",
       "      <td>6.40</td>\n",
       "      <td>48</td>\n",
       "      <td>15</td>\n",
       "      <td>3800</td>\n",
       "      <td>18999.0</td>\n",
       "    </tr>\n",
       "    <tr>\n",
       "      <th>4</th>\n",
       "      <td>POCO</td>\n",
       "      <td>6.0</td>\n",
       "      <td>6.18</td>\n",
       "      <td>35</td>\n",
       "      <td>15</td>\n",
       "      <td>3800</td>\n",
       "      <td>18999.0</td>\n",
       "    </tr>\n",
       "    <tr>\n",
       "      <th>...</th>\n",
       "      <td>...</td>\n",
       "      <td>...</td>\n",
       "      <td>...</td>\n",
       "      <td>...</td>\n",
       "      <td>...</td>\n",
       "      <td>...</td>\n",
       "      <td>...</td>\n",
       "    </tr>\n",
       "    <tr>\n",
       "      <th>516</th>\n",
       "      <td>Samsung</td>\n",
       "      <td>4.0</td>\n",
       "      <td>6.20</td>\n",
       "      <td>35</td>\n",
       "      <td>8</td>\n",
       "      <td>3500</td>\n",
       "      <td>53990.0</td>\n",
       "    </tr>\n",
       "    <tr>\n",
       "      <th>517</th>\n",
       "      <td>Black</td>\n",
       "      <td>6.0</td>\n",
       "      <td>6.39</td>\n",
       "      <td>48</td>\n",
       "      <td>12</td>\n",
       "      <td>3800</td>\n",
       "      <td>31999.0</td>\n",
       "    </tr>\n",
       "    <tr>\n",
       "      <th>518</th>\n",
       "      <td>Karbonn</td>\n",
       "      <td>6.0</td>\n",
       "      <td>4.54</td>\n",
       "      <td>48</td>\n",
       "      <td>12</td>\n",
       "      <td>2800</td>\n",
       "      <td>1299.0</td>\n",
       "    </tr>\n",
       "    <tr>\n",
       "      <th>519</th>\n",
       "      <td>Alcatel</td>\n",
       "      <td>3.0</td>\n",
       "      <td>6.20</td>\n",
       "      <td>48</td>\n",
       "      <td>1</td>\n",
       "      <td>3800</td>\n",
       "      <td>9790.0</td>\n",
       "    </tr>\n",
       "    <tr>\n",
       "      <th>520</th>\n",
       "      <td>Blacear</td>\n",
       "      <td>6.0</td>\n",
       "      <td>4.50</td>\n",
       "      <td>64</td>\n",
       "      <td>15</td>\n",
       "      <td>1050</td>\n",
       "      <td>799.0</td>\n",
       "    </tr>\n",
       "  </tbody>\n",
       "</table>\n",
       "<p>521 rows × 7 columns</p>\n",
       "</div>"
      ],
      "text/plain": [
       "    Brand me  RAM  Mobile_Size  Primary_Cam  Selfi_Cam  Battery_Power    Price\n",
       "0         LG  4.0         6.00           48         13           4000  24999.0\n",
       "1      IKall  6.0         4.50           48         12           4000  15999.0\n",
       "2      Nokia  4.0         4.50           64         16           4000  15000.0\n",
       "3    Samsung  6.0         6.40           48         15           3800  18999.0\n",
       "4       POCO  6.0         6.18           35         15           3800  18999.0\n",
       "..       ...  ...          ...          ...        ...            ...      ...\n",
       "516  Samsung  4.0         6.20           35          8           3500  53990.0\n",
       "517    Black  6.0         6.39           48         12           3800  31999.0\n",
       "518  Karbonn  6.0         4.54           48         12           2800   1299.0\n",
       "519  Alcatel  3.0         6.20           48          1           3800   9790.0\n",
       "520  Blacear  6.0         4.50           64         15           1050    799.0\n",
       "\n",
       "[521 rows x 7 columns]"
      ]
     },
     "execution_count": 9,
     "metadata": {},
     "output_type": "execute_result"
    }
   ],
   "source": [
    "phone"
   ]
  },
  {
   "cell_type": "code",
   "execution_count": 10,
   "id": "6917ad89-2f79-45fd-aa29-486148fb00d6",
   "metadata": {},
   "outputs": [
    {
     "data": {
      "text/plain": [
       "(521, 7)"
      ]
     },
     "execution_count": 10,
     "metadata": {},
     "output_type": "execute_result"
    }
   ],
   "source": [
    "phone.shape"
   ]
  },
  {
   "cell_type": "code",
   "execution_count": 14,
   "id": "ea1bd655-e666-4f94-98a0-beca7cd61bba",
   "metadata": {},
   "outputs": [],
   "source": [
    "X=phone.drop(columns='Price')\n",
    "y=phone['Price']"
   ]
  },
  {
   "cell_type": "code",
   "execution_count": 15,
   "id": "8a906659-1eaa-49a7-8c17-64270cbdd3cf",
   "metadata": {},
   "outputs": [
    {
     "data": {
      "text/html": [
       "<div>\n",
       "<style scoped>\n",
       "    .dataframe tbody tr th:only-of-type {\n",
       "        vertical-align: middle;\n",
       "    }\n",
       "\n",
       "    .dataframe tbody tr th {\n",
       "        vertical-align: top;\n",
       "    }\n",
       "\n",
       "    .dataframe thead th {\n",
       "        text-align: right;\n",
       "    }\n",
       "</style>\n",
       "<table border=\"1\" class=\"dataframe\">\n",
       "  <thead>\n",
       "    <tr style=\"text-align: right;\">\n",
       "      <th></th>\n",
       "      <th>Brand me</th>\n",
       "      <th>RAM</th>\n",
       "      <th>Mobile_Size</th>\n",
       "      <th>Primary_Cam</th>\n",
       "      <th>Selfi_Cam</th>\n",
       "      <th>Battery_Power</th>\n",
       "    </tr>\n",
       "  </thead>\n",
       "  <tbody>\n",
       "    <tr>\n",
       "      <th>0</th>\n",
       "      <td>LG</td>\n",
       "      <td>4.0</td>\n",
       "      <td>6.00</td>\n",
       "      <td>48</td>\n",
       "      <td>13</td>\n",
       "      <td>4000</td>\n",
       "    </tr>\n",
       "    <tr>\n",
       "      <th>1</th>\n",
       "      <td>IKall</td>\n",
       "      <td>6.0</td>\n",
       "      <td>4.50</td>\n",
       "      <td>48</td>\n",
       "      <td>12</td>\n",
       "      <td>4000</td>\n",
       "    </tr>\n",
       "    <tr>\n",
       "      <th>2</th>\n",
       "      <td>Nokia</td>\n",
       "      <td>4.0</td>\n",
       "      <td>4.50</td>\n",
       "      <td>64</td>\n",
       "      <td>16</td>\n",
       "      <td>4000</td>\n",
       "    </tr>\n",
       "    <tr>\n",
       "      <th>3</th>\n",
       "      <td>Samsung</td>\n",
       "      <td>6.0</td>\n",
       "      <td>6.40</td>\n",
       "      <td>48</td>\n",
       "      <td>15</td>\n",
       "      <td>3800</td>\n",
       "    </tr>\n",
       "    <tr>\n",
       "      <th>4</th>\n",
       "      <td>POCO</td>\n",
       "      <td>6.0</td>\n",
       "      <td>6.18</td>\n",
       "      <td>35</td>\n",
       "      <td>15</td>\n",
       "      <td>3800</td>\n",
       "    </tr>\n",
       "    <tr>\n",
       "      <th>...</th>\n",
       "      <td>...</td>\n",
       "      <td>...</td>\n",
       "      <td>...</td>\n",
       "      <td>...</td>\n",
       "      <td>...</td>\n",
       "      <td>...</td>\n",
       "    </tr>\n",
       "    <tr>\n",
       "      <th>516</th>\n",
       "      <td>Samsung</td>\n",
       "      <td>4.0</td>\n",
       "      <td>6.20</td>\n",
       "      <td>35</td>\n",
       "      <td>8</td>\n",
       "      <td>3500</td>\n",
       "    </tr>\n",
       "    <tr>\n",
       "      <th>517</th>\n",
       "      <td>Black</td>\n",
       "      <td>6.0</td>\n",
       "      <td>6.39</td>\n",
       "      <td>48</td>\n",
       "      <td>12</td>\n",
       "      <td>3800</td>\n",
       "    </tr>\n",
       "    <tr>\n",
       "      <th>518</th>\n",
       "      <td>Karbonn</td>\n",
       "      <td>6.0</td>\n",
       "      <td>4.54</td>\n",
       "      <td>48</td>\n",
       "      <td>12</td>\n",
       "      <td>2800</td>\n",
       "    </tr>\n",
       "    <tr>\n",
       "      <th>519</th>\n",
       "      <td>Alcatel</td>\n",
       "      <td>3.0</td>\n",
       "      <td>6.20</td>\n",
       "      <td>48</td>\n",
       "      <td>1</td>\n",
       "      <td>3800</td>\n",
       "    </tr>\n",
       "    <tr>\n",
       "      <th>520</th>\n",
       "      <td>Blacear</td>\n",
       "      <td>6.0</td>\n",
       "      <td>4.50</td>\n",
       "      <td>64</td>\n",
       "      <td>15</td>\n",
       "      <td>1050</td>\n",
       "    </tr>\n",
       "  </tbody>\n",
       "</table>\n",
       "<p>521 rows × 6 columns</p>\n",
       "</div>"
      ],
      "text/plain": [
       "    Brand me  RAM  Mobile_Size  Primary_Cam  Selfi_Cam  Battery_Power\n",
       "0         LG  4.0         6.00           48         13           4000\n",
       "1      IKall  6.0         4.50           48         12           4000\n",
       "2      Nokia  4.0         4.50           64         16           4000\n",
       "3    Samsung  6.0         6.40           48         15           3800\n",
       "4       POCO  6.0         6.18           35         15           3800\n",
       "..       ...  ...          ...          ...        ...            ...\n",
       "516  Samsung  4.0         6.20           35          8           3500\n",
       "517    Black  6.0         6.39           48         12           3800\n",
       "518  Karbonn  6.0         4.54           48         12           2800\n",
       "519  Alcatel  3.0         6.20           48          1           3800\n",
       "520  Blacear  6.0         4.50           64         15           1050\n",
       "\n",
       "[521 rows x 6 columns]"
      ]
     },
     "execution_count": 15,
     "metadata": {},
     "output_type": "execute_result"
    }
   ],
   "source": [
    "X"
   ]
  },
  {
   "cell_type": "code",
   "execution_count": 16,
   "id": "1be28ecc-f4e5-4bb7-b955-6cf8e62c41be",
   "metadata": {},
   "outputs": [
    {
     "data": {
      "text/plain": [
       "0      24999.0\n",
       "1      15999.0\n",
       "2      15000.0\n",
       "3      18999.0\n",
       "4      18999.0\n",
       "        ...   \n",
       "516    53990.0\n",
       "517    31999.0\n",
       "518     1299.0\n",
       "519     9790.0\n",
       "520      799.0\n",
       "Name: Price, Length: 521, dtype: float64"
      ]
     },
     "execution_count": 16,
     "metadata": {},
     "output_type": "execute_result"
    }
   ],
   "source": [
    "y"
   ]
  },
  {
   "cell_type": "code",
   "execution_count": 17,
   "id": "bbe886b0-9828-41e0-bd54-cb93734b1589",
   "metadata": {},
   "outputs": [],
   "source": [
    "from sklearn.model_selection import train_test_split\n",
    "X_train,X_test,y_train,y_test=train_test_split(X,y,test_size=0.2,random_state=42)"
   ]
  },
  {
   "cell_type": "code",
   "execution_count": 19,
   "id": "949cda6a-1cea-410b-b505-f5320e723c51",
   "metadata": {},
   "outputs": [],
   "source": [
    "from sklearn.linear_model import LinearRegression\n",
    "from sklearn.metrics import r2_score\n",
    "from sklearn.preprocessing import OneHotEncoder\n",
    "from sklearn.compose import make_column_transformer\n",
    "from sklearn.pipeline import make_pipeline"
   ]
  },
  {
   "cell_type": "code",
   "execution_count": 20,
   "id": "1c768d3e-2525-4bcc-ae49-80adb987d6b2",
   "metadata": {},
   "outputs": [],
   "source": [
    "ohe=OneHotEncoder()"
   ]
  },
  {
   "cell_type": "code",
   "execution_count": 21,
   "id": "812b4c89-66b9-443a-b69d-5198931f4181",
   "metadata": {},
   "outputs": [
    {
     "data": {
      "text/html": [
       "<style>#sk-container-id-1 {color: black;}#sk-container-id-1 pre{padding: 0;}#sk-container-id-1 div.sk-toggleable {background-color: white;}#sk-container-id-1 label.sk-toggleable__label {cursor: pointer;display: block;width: 100%;margin-bottom: 0;padding: 0.3em;box-sizing: border-box;text-align: center;}#sk-container-id-1 label.sk-toggleable__label-arrow:before {content: \"▸\";float: left;margin-right: 0.25em;color: #696969;}#sk-container-id-1 label.sk-toggleable__label-arrow:hover:before {color: black;}#sk-container-id-1 div.sk-estimator:hover label.sk-toggleable__label-arrow:before {color: black;}#sk-container-id-1 div.sk-toggleable__content {max-height: 0;max-width: 0;overflow: hidden;text-align: left;background-color: #f0f8ff;}#sk-container-id-1 div.sk-toggleable__content pre {margin: 0.2em;color: black;border-radius: 0.25em;background-color: #f0f8ff;}#sk-container-id-1 input.sk-toggleable__control:checked~div.sk-toggleable__content {max-height: 200px;max-width: 100%;overflow: auto;}#sk-container-id-1 input.sk-toggleable__control:checked~label.sk-toggleable__label-arrow:before {content: \"▾\";}#sk-container-id-1 div.sk-estimator input.sk-toggleable__control:checked~label.sk-toggleable__label {background-color: #d4ebff;}#sk-container-id-1 div.sk-label input.sk-toggleable__control:checked~label.sk-toggleable__label {background-color: #d4ebff;}#sk-container-id-1 input.sk-hidden--visually {border: 0;clip: rect(1px 1px 1px 1px);clip: rect(1px, 1px, 1px, 1px);height: 1px;margin: -1px;overflow: hidden;padding: 0;position: absolute;width: 1px;}#sk-container-id-1 div.sk-estimator {font-family: monospace;background-color: #f0f8ff;border: 1px dotted black;border-radius: 0.25em;box-sizing: border-box;margin-bottom: 0.5em;}#sk-container-id-1 div.sk-estimator:hover {background-color: #d4ebff;}#sk-container-id-1 div.sk-parallel-item::after {content: \"\";width: 100%;border-bottom: 1px solid gray;flex-grow: 1;}#sk-container-id-1 div.sk-label:hover label.sk-toggleable__label {background-color: #d4ebff;}#sk-container-id-1 div.sk-serial::before {content: \"\";position: absolute;border-left: 1px solid gray;box-sizing: border-box;top: 0;bottom: 0;left: 50%;z-index: 0;}#sk-container-id-1 div.sk-serial {display: flex;flex-direction: column;align-items: center;background-color: white;padding-right: 0.2em;padding-left: 0.2em;position: relative;}#sk-container-id-1 div.sk-item {position: relative;z-index: 1;}#sk-container-id-1 div.sk-parallel {display: flex;align-items: stretch;justify-content: center;background-color: white;position: relative;}#sk-container-id-1 div.sk-item::before, #sk-container-id-1 div.sk-parallel-item::before {content: \"\";position: absolute;border-left: 1px solid gray;box-sizing: border-box;top: 0;bottom: 0;left: 50%;z-index: -1;}#sk-container-id-1 div.sk-parallel-item {display: flex;flex-direction: column;z-index: 1;position: relative;background-color: white;}#sk-container-id-1 div.sk-parallel-item:first-child::after {align-self: flex-end;width: 50%;}#sk-container-id-1 div.sk-parallel-item:last-child::after {align-self: flex-start;width: 50%;}#sk-container-id-1 div.sk-parallel-item:only-child::after {width: 0;}#sk-container-id-1 div.sk-dashed-wrapped {border: 1px dashed gray;margin: 0 0.4em 0.5em 0.4em;box-sizing: border-box;padding-bottom: 0.4em;background-color: white;}#sk-container-id-1 div.sk-label label {font-family: monospace;font-weight: bold;display: inline-block;line-height: 1.2em;}#sk-container-id-1 div.sk-label-container {text-align: center;}#sk-container-id-1 div.sk-container {/* jupyter's `normalize.less` sets `[hidden] { display: none; }` but bootstrap.min.css set `[hidden] { display: none !important; }` so we also need the `!important` here to be able to override the default hidden behavior on the sphinx rendered scikit-learn.org. See: https://github.com/scikit-learn/scikit-learn/issues/21755 */display: inline-block !important;position: relative;}#sk-container-id-1 div.sk-text-repr-fallback {display: none;}</style><div id=\"sk-container-id-1\" class=\"sk-top-container\"><div class=\"sk-text-repr-fallback\"><pre>OneHotEncoder()</pre><b>In a Jupyter environment, please rerun this cell to show the HTML representation or trust the notebook. <br />On GitHub, the HTML representation is unable to render, please try loading this page with nbviewer.org.</b></div><div class=\"sk-container\" hidden><div class=\"sk-item\"><div class=\"sk-estimator sk-toggleable\"><input class=\"sk-toggleable__control sk-hidden--visually\" id=\"sk-estimator-id-1\" type=\"checkbox\" checked><label for=\"sk-estimator-id-1\" class=\"sk-toggleable__label sk-toggleable__label-arrow\">OneHotEncoder</label><div class=\"sk-toggleable__content\"><pre>OneHotEncoder()</pre></div></div></div></div></div>"
      ],
      "text/plain": [
       "OneHotEncoder()"
      ]
     },
     "execution_count": 21,
     "metadata": {},
     "output_type": "execute_result"
    }
   ],
   "source": [
    "ohe.fit(X[['Brand me']])"
   ]
  },
  {
   "cell_type": "code",
   "execution_count": 23,
   "id": "56d6a686-f66d-40d7-8985-ce39d8969fd8",
   "metadata": {},
   "outputs": [
    {
     "data": {
      "text/html": [
       "<style>#sk-container-id-2 {color: black;}#sk-container-id-2 pre{padding: 0;}#sk-container-id-2 div.sk-toggleable {background-color: white;}#sk-container-id-2 label.sk-toggleable__label {cursor: pointer;display: block;width: 100%;margin-bottom: 0;padding: 0.3em;box-sizing: border-box;text-align: center;}#sk-container-id-2 label.sk-toggleable__label-arrow:before {content: \"▸\";float: left;margin-right: 0.25em;color: #696969;}#sk-container-id-2 label.sk-toggleable__label-arrow:hover:before {color: black;}#sk-container-id-2 div.sk-estimator:hover label.sk-toggleable__label-arrow:before {color: black;}#sk-container-id-2 div.sk-toggleable__content {max-height: 0;max-width: 0;overflow: hidden;text-align: left;background-color: #f0f8ff;}#sk-container-id-2 div.sk-toggleable__content pre {margin: 0.2em;color: black;border-radius: 0.25em;background-color: #f0f8ff;}#sk-container-id-2 input.sk-toggleable__control:checked~div.sk-toggleable__content {max-height: 200px;max-width: 100%;overflow: auto;}#sk-container-id-2 input.sk-toggleable__control:checked~label.sk-toggleable__label-arrow:before {content: \"▾\";}#sk-container-id-2 div.sk-estimator input.sk-toggleable__control:checked~label.sk-toggleable__label {background-color: #d4ebff;}#sk-container-id-2 div.sk-label input.sk-toggleable__control:checked~label.sk-toggleable__label {background-color: #d4ebff;}#sk-container-id-2 input.sk-hidden--visually {border: 0;clip: rect(1px 1px 1px 1px);clip: rect(1px, 1px, 1px, 1px);height: 1px;margin: -1px;overflow: hidden;padding: 0;position: absolute;width: 1px;}#sk-container-id-2 div.sk-estimator {font-family: monospace;background-color: #f0f8ff;border: 1px dotted black;border-radius: 0.25em;box-sizing: border-box;margin-bottom: 0.5em;}#sk-container-id-2 div.sk-estimator:hover {background-color: #d4ebff;}#sk-container-id-2 div.sk-parallel-item::after {content: \"\";width: 100%;border-bottom: 1px solid gray;flex-grow: 1;}#sk-container-id-2 div.sk-label:hover label.sk-toggleable__label {background-color: #d4ebff;}#sk-container-id-2 div.sk-serial::before {content: \"\";position: absolute;border-left: 1px solid gray;box-sizing: border-box;top: 0;bottom: 0;left: 50%;z-index: 0;}#sk-container-id-2 div.sk-serial {display: flex;flex-direction: column;align-items: center;background-color: white;padding-right: 0.2em;padding-left: 0.2em;position: relative;}#sk-container-id-2 div.sk-item {position: relative;z-index: 1;}#sk-container-id-2 div.sk-parallel {display: flex;align-items: stretch;justify-content: center;background-color: white;position: relative;}#sk-container-id-2 div.sk-item::before, #sk-container-id-2 div.sk-parallel-item::before {content: \"\";position: absolute;border-left: 1px solid gray;box-sizing: border-box;top: 0;bottom: 0;left: 50%;z-index: -1;}#sk-container-id-2 div.sk-parallel-item {display: flex;flex-direction: column;z-index: 1;position: relative;background-color: white;}#sk-container-id-2 div.sk-parallel-item:first-child::after {align-self: flex-end;width: 50%;}#sk-container-id-2 div.sk-parallel-item:last-child::after {align-self: flex-start;width: 50%;}#sk-container-id-2 div.sk-parallel-item:only-child::after {width: 0;}#sk-container-id-2 div.sk-dashed-wrapped {border: 1px dashed gray;margin: 0 0.4em 0.5em 0.4em;box-sizing: border-box;padding-bottom: 0.4em;background-color: white;}#sk-container-id-2 div.sk-label label {font-family: monospace;font-weight: bold;display: inline-block;line-height: 1.2em;}#sk-container-id-2 div.sk-label-container {text-align: center;}#sk-container-id-2 div.sk-container {/* jupyter's `normalize.less` sets `[hidden] { display: none; }` but bootstrap.min.css set `[hidden] { display: none !important; }` so we also need the `!important` here to be able to override the default hidden behavior on the sphinx rendered scikit-learn.org. See: https://github.com/scikit-learn/scikit-learn/issues/21755 */display: inline-block !important;position: relative;}#sk-container-id-2 div.sk-text-repr-fallback {display: none;}</style><div id=\"sk-container-id-2\" class=\"sk-top-container\"><div class=\"sk-text-repr-fallback\"><pre>Pipeline(steps=[(&#x27;columntransformer&#x27;,\n",
       "                 ColumnTransformer(remainder=&#x27;passthrough&#x27;,\n",
       "                                   transformers=[(&#x27;onehotencoder&#x27;,\n",
       "                                                  OneHotEncoder(categories=[array([&#x27;Alcatel&#x27;, &#x27;Apple&#x27;, &#x27;Blacear&#x27;, &#x27;Blacerry&#x27;, &#x27;Black&#x27;, &#x27;BlackZone&#x27;,\n",
       "       &#x27;Doogee&#x27;, &#x27;Easyfone&#x27;, &#x27;Forme&#x27;, &#x27;Good&#x27;, &#x27;Google&#x27;, &#x27;Grabo&#x27;,\n",
       "       &#x27;GreenBerry&#x27;, &#x27;Hicell&#x27;, &#x27;Honor&#x27;, &#x27;Huawei&#x27;, &#x27;I&#x27;, &#x27;IKall&#x27;, &#x27;InFocus&#x27;,\n",
       "       &#x27;Infinix&#x27;, &#x27;Inovu&#x27;, &#x27;Itel&#x27;, &#x27;Jivi&#x27;, &#x27;Jmax&#x27;, &#x27;Karbonn&#x27;, &#x27;Kechaoda&#x27;,\n",
       "       &#x27;LG&#x27;, &#x27;Lava&#x27;, &#x27;Lenovo&#x27;, &#x27;MTR&#x27;, &#x27;Mafe&#x27;, &#x27;Megus&#x27;, &#x27;Meizu&#x27;, &#x27;Mi&#x27;,\n",
       "       &#x27;Micax&#x27;, &#x27;Moto&#x27;, &#x27;Motorola&#x27;, &#x27;Muphone&#x27;, &#x27;Nexus&#x27;, &#x27;Nokia&#x27;, &#x27;OPPO&#x27;,\n",
       "       &#x27;OnePlus&#x27;, &#x27;POCO&#x27;, &#x27;Peace&#x27;, &#x27;Q-Tel&#x27;, &#x27;Realme&#x27;, &#x27;Redmi&#x27;, &#x27;Salora&#x27;,\n",
       "       &#x27;Samsung&#x27;, &#x27;Ssky&#x27;, &#x27;Tecno&#x27;, &#x27;Tork&#x27;, &#x27;Vivo&#x27;, &#x27;iQOO&#x27;], dtype=object)]),\n",
       "                                                  [&#x27;Brand me&#x27;])])),\n",
       "                (&#x27;linearregression&#x27;, LinearRegression())])</pre><b>In a Jupyter environment, please rerun this cell to show the HTML representation or trust the notebook. <br />On GitHub, the HTML representation is unable to render, please try loading this page with nbviewer.org.</b></div><div class=\"sk-container\" hidden><div class=\"sk-item sk-dashed-wrapped\"><div class=\"sk-label-container\"><div class=\"sk-label sk-toggleable\"><input class=\"sk-toggleable__control sk-hidden--visually\" id=\"sk-estimator-id-2\" type=\"checkbox\" ><label for=\"sk-estimator-id-2\" class=\"sk-toggleable__label sk-toggleable__label-arrow\">Pipeline</label><div class=\"sk-toggleable__content\"><pre>Pipeline(steps=[(&#x27;columntransformer&#x27;,\n",
       "                 ColumnTransformer(remainder=&#x27;passthrough&#x27;,\n",
       "                                   transformers=[(&#x27;onehotencoder&#x27;,\n",
       "                                                  OneHotEncoder(categories=[array([&#x27;Alcatel&#x27;, &#x27;Apple&#x27;, &#x27;Blacear&#x27;, &#x27;Blacerry&#x27;, &#x27;Black&#x27;, &#x27;BlackZone&#x27;,\n",
       "       &#x27;Doogee&#x27;, &#x27;Easyfone&#x27;, &#x27;Forme&#x27;, &#x27;Good&#x27;, &#x27;Google&#x27;, &#x27;Grabo&#x27;,\n",
       "       &#x27;GreenBerry&#x27;, &#x27;Hicell&#x27;, &#x27;Honor&#x27;, &#x27;Huawei&#x27;, &#x27;I&#x27;, &#x27;IKall&#x27;, &#x27;InFocus&#x27;,\n",
       "       &#x27;Infinix&#x27;, &#x27;Inovu&#x27;, &#x27;Itel&#x27;, &#x27;Jivi&#x27;, &#x27;Jmax&#x27;, &#x27;Karbonn&#x27;, &#x27;Kechaoda&#x27;,\n",
       "       &#x27;LG&#x27;, &#x27;Lava&#x27;, &#x27;Lenovo&#x27;, &#x27;MTR&#x27;, &#x27;Mafe&#x27;, &#x27;Megus&#x27;, &#x27;Meizu&#x27;, &#x27;Mi&#x27;,\n",
       "       &#x27;Micax&#x27;, &#x27;Moto&#x27;, &#x27;Motorola&#x27;, &#x27;Muphone&#x27;, &#x27;Nexus&#x27;, &#x27;Nokia&#x27;, &#x27;OPPO&#x27;,\n",
       "       &#x27;OnePlus&#x27;, &#x27;POCO&#x27;, &#x27;Peace&#x27;, &#x27;Q-Tel&#x27;, &#x27;Realme&#x27;, &#x27;Redmi&#x27;, &#x27;Salora&#x27;,\n",
       "       &#x27;Samsung&#x27;, &#x27;Ssky&#x27;, &#x27;Tecno&#x27;, &#x27;Tork&#x27;, &#x27;Vivo&#x27;, &#x27;iQOO&#x27;], dtype=object)]),\n",
       "                                                  [&#x27;Brand me&#x27;])])),\n",
       "                (&#x27;linearregression&#x27;, LinearRegression())])</pre></div></div></div><div class=\"sk-serial\"><div class=\"sk-item sk-dashed-wrapped\"><div class=\"sk-label-container\"><div class=\"sk-label sk-toggleable\"><input class=\"sk-toggleable__control sk-hidden--visually\" id=\"sk-estimator-id-3\" type=\"checkbox\" ><label for=\"sk-estimator-id-3\" class=\"sk-toggleable__label sk-toggleable__label-arrow\">columntransformer: ColumnTransformer</label><div class=\"sk-toggleable__content\"><pre>ColumnTransformer(remainder=&#x27;passthrough&#x27;,\n",
       "                  transformers=[(&#x27;onehotencoder&#x27;,\n",
       "                                 OneHotEncoder(categories=[array([&#x27;Alcatel&#x27;, &#x27;Apple&#x27;, &#x27;Blacear&#x27;, &#x27;Blacerry&#x27;, &#x27;Black&#x27;, &#x27;BlackZone&#x27;,\n",
       "       &#x27;Doogee&#x27;, &#x27;Easyfone&#x27;, &#x27;Forme&#x27;, &#x27;Good&#x27;, &#x27;Google&#x27;, &#x27;Grabo&#x27;,\n",
       "       &#x27;GreenBerry&#x27;, &#x27;Hicell&#x27;, &#x27;Honor&#x27;, &#x27;Huawei&#x27;, &#x27;I&#x27;, &#x27;IKall&#x27;, &#x27;InFocus&#x27;,\n",
       "       &#x27;Infinix&#x27;, &#x27;Inovu&#x27;, &#x27;Itel&#x27;, &#x27;Jivi&#x27;, &#x27;Jmax&#x27;, &#x27;Karbonn&#x27;, &#x27;Kechaoda&#x27;,\n",
       "       &#x27;LG&#x27;, &#x27;Lava&#x27;, &#x27;Lenovo&#x27;, &#x27;MTR&#x27;, &#x27;Mafe&#x27;, &#x27;Megus&#x27;, &#x27;Meizu&#x27;, &#x27;Mi&#x27;,\n",
       "       &#x27;Micax&#x27;, &#x27;Moto&#x27;, &#x27;Motorola&#x27;, &#x27;Muphone&#x27;, &#x27;Nexus&#x27;, &#x27;Nokia&#x27;, &#x27;OPPO&#x27;,\n",
       "       &#x27;OnePlus&#x27;, &#x27;POCO&#x27;, &#x27;Peace&#x27;, &#x27;Q-Tel&#x27;, &#x27;Realme&#x27;, &#x27;Redmi&#x27;, &#x27;Salora&#x27;,\n",
       "       &#x27;Samsung&#x27;, &#x27;Ssky&#x27;, &#x27;Tecno&#x27;, &#x27;Tork&#x27;, &#x27;Vivo&#x27;, &#x27;iQOO&#x27;], dtype=object)]),\n",
       "                                 [&#x27;Brand me&#x27;])])</pre></div></div></div><div class=\"sk-parallel\"><div class=\"sk-parallel-item\"><div class=\"sk-item\"><div class=\"sk-label-container\"><div class=\"sk-label sk-toggleable\"><input class=\"sk-toggleable__control sk-hidden--visually\" id=\"sk-estimator-id-4\" type=\"checkbox\" ><label for=\"sk-estimator-id-4\" class=\"sk-toggleable__label sk-toggleable__label-arrow\">onehotencoder</label><div class=\"sk-toggleable__content\"><pre>[&#x27;Brand me&#x27;]</pre></div></div></div><div class=\"sk-serial\"><div class=\"sk-item\"><div class=\"sk-estimator sk-toggleable\"><input class=\"sk-toggleable__control sk-hidden--visually\" id=\"sk-estimator-id-5\" type=\"checkbox\" ><label for=\"sk-estimator-id-5\" class=\"sk-toggleable__label sk-toggleable__label-arrow\">OneHotEncoder</label><div class=\"sk-toggleable__content\"><pre>OneHotEncoder(categories=[array([&#x27;Alcatel&#x27;, &#x27;Apple&#x27;, &#x27;Blacear&#x27;, &#x27;Blacerry&#x27;, &#x27;Black&#x27;, &#x27;BlackZone&#x27;,\n",
       "       &#x27;Doogee&#x27;, &#x27;Easyfone&#x27;, &#x27;Forme&#x27;, &#x27;Good&#x27;, &#x27;Google&#x27;, &#x27;Grabo&#x27;,\n",
       "       &#x27;GreenBerry&#x27;, &#x27;Hicell&#x27;, &#x27;Honor&#x27;, &#x27;Huawei&#x27;, &#x27;I&#x27;, &#x27;IKall&#x27;, &#x27;InFocus&#x27;,\n",
       "       &#x27;Infinix&#x27;, &#x27;Inovu&#x27;, &#x27;Itel&#x27;, &#x27;Jivi&#x27;, &#x27;Jmax&#x27;, &#x27;Karbonn&#x27;, &#x27;Kechaoda&#x27;,\n",
       "       &#x27;LG&#x27;, &#x27;Lava&#x27;, &#x27;Lenovo&#x27;, &#x27;MTR&#x27;, &#x27;Mafe&#x27;, &#x27;Megus&#x27;, &#x27;Meizu&#x27;, &#x27;Mi&#x27;,\n",
       "       &#x27;Micax&#x27;, &#x27;Moto&#x27;, &#x27;Motorola&#x27;, &#x27;Muphone&#x27;, &#x27;Nexus&#x27;, &#x27;Nokia&#x27;, &#x27;OPPO&#x27;,\n",
       "       &#x27;OnePlus&#x27;, &#x27;POCO&#x27;, &#x27;Peace&#x27;, &#x27;Q-Tel&#x27;, &#x27;Realme&#x27;, &#x27;Redmi&#x27;, &#x27;Salora&#x27;,\n",
       "       &#x27;Samsung&#x27;, &#x27;Ssky&#x27;, &#x27;Tecno&#x27;, &#x27;Tork&#x27;, &#x27;Vivo&#x27;, &#x27;iQOO&#x27;], dtype=object)])</pre></div></div></div></div></div></div><div class=\"sk-parallel-item\"><div class=\"sk-item\"><div class=\"sk-label-container\"><div class=\"sk-label sk-toggleable\"><input class=\"sk-toggleable__control sk-hidden--visually\" id=\"sk-estimator-id-6\" type=\"checkbox\" ><label for=\"sk-estimator-id-6\" class=\"sk-toggleable__label sk-toggleable__label-arrow\">remainder</label><div class=\"sk-toggleable__content\"><pre>[&#x27;RAM&#x27;, &#x27;Mobile_Size&#x27;, &#x27;Primary_Cam&#x27;, &#x27;Selfi_Cam&#x27;, &#x27;Battery_Power&#x27;]</pre></div></div></div><div class=\"sk-serial\"><div class=\"sk-item\"><div class=\"sk-estimator sk-toggleable\"><input class=\"sk-toggleable__control sk-hidden--visually\" id=\"sk-estimator-id-7\" type=\"checkbox\" ><label for=\"sk-estimator-id-7\" class=\"sk-toggleable__label sk-toggleable__label-arrow\">passthrough</label><div class=\"sk-toggleable__content\"><pre>passthrough</pre></div></div></div></div></div></div></div></div><div class=\"sk-item\"><div class=\"sk-estimator sk-toggleable\"><input class=\"sk-toggleable__control sk-hidden--visually\" id=\"sk-estimator-id-8\" type=\"checkbox\" ><label for=\"sk-estimator-id-8\" class=\"sk-toggleable__label sk-toggleable__label-arrow\">LinearRegression</label><div class=\"sk-toggleable__content\"><pre>LinearRegression()</pre></div></div></div></div></div></div></div>"
      ],
      "text/plain": [
       "Pipeline(steps=[('columntransformer',\n",
       "                 ColumnTransformer(remainder='passthrough',\n",
       "                                   transformers=[('onehotencoder',\n",
       "                                                  OneHotEncoder(categories=[array(['Alcatel', 'Apple', 'Blacear', 'Blacerry', 'Black', 'BlackZone',\n",
       "       'Doogee', 'Easyfone', 'Forme', 'Good', 'Google', 'Grabo',\n",
       "       'GreenBerry', 'Hicell', 'Honor', 'Huawei', 'I', 'IKall', 'InFocus',\n",
       "       'Infinix', 'Inovu', 'Itel', 'Jivi', 'Jmax', 'Karbonn', 'Kechaoda',\n",
       "       'LG', 'Lava', 'Lenovo', 'MTR', 'Mafe', 'Megus', 'Meizu', 'Mi',\n",
       "       'Micax', 'Moto', 'Motorola', 'Muphone', 'Nexus', 'Nokia', 'OPPO',\n",
       "       'OnePlus', 'POCO', 'Peace', 'Q-Tel', 'Realme', 'Redmi', 'Salora',\n",
       "       'Samsung', 'Ssky', 'Tecno', 'Tork', 'Vivo', 'iQOO'], dtype=object)]),\n",
       "                                                  ['Brand me'])])),\n",
       "                ('linearregression', LinearRegression())])"
      ]
     },
     "execution_count": 23,
     "metadata": {},
     "output_type": "execute_result"
    }
   ],
   "source": [
    "column_trans=make_column_transformer((OneHotEncoder(categories=ohe.categories_),['Brand me']),remainder='passthrough')\n",
    "lr=LinearRegression()\n",
    "pipe=make_pipeline(column_trans,lr)\n",
    "pipe.fit(X_train,y_train)"
   ]
  },
  {
   "cell_type": "code",
   "execution_count": 24,
   "id": "597892b9-2d6d-4dd6-aeb4-1d9abc8b0b40",
   "metadata": {},
   "outputs": [],
   "source": [
    "y_pred=pipe.predict(X_test)"
   ]
  },
  {
   "cell_type": "code",
   "execution_count": 25,
   "id": "ff76c403-1d51-4023-8107-5a48db7a6386",
   "metadata": {},
   "outputs": [
    {
     "data": {
      "text/plain": [
       "0.22797981903094866"
      ]
     },
     "execution_count": 25,
     "metadata": {},
     "output_type": "execute_result"
    }
   ],
   "source": [
    "r2_score(y_test,y_pred)"
   ]
  },
  {
   "cell_type": "code",
   "execution_count": 28,
   "id": "d6fbf288-dfed-49d4-b113-27faee357ecf",
   "metadata": {},
   "outputs": [],
   "source": [
    "scores=[]\n",
    "for i in range (100):\n",
    "    X_train, X_test, y_train, y_test=train_test_split(X,y, test_size=0.2, random_state=i)\n",
    "    column_trans=make_column_transformer((OneHotEncoder(categories=ohe.categories_),['Brand me']),remainder='passthrough')\n",
    "    lr=LinearRegression()\n",
    "    pipe=make_pipeline(column_trans,lr)\n",
    "    pipe.fit(X_train,y_train)\n",
    "    y_pred=pipe.predict(X_test)\n",
    "    #print(r2_score(y_test,y_pred),i)\n",
    "    scores.append(r2_score(y_test,y_pred))"
   ]
  },
  {
   "cell_type": "code",
   "execution_count": 29,
   "id": "004def59-fe2f-46a6-aca0-82bd26e8ff5c",
   "metadata": {},
   "outputs": [
    {
     "data": {
      "text/plain": [
       "47"
      ]
     },
     "execution_count": 29,
     "metadata": {},
     "output_type": "execute_result"
    }
   ],
   "source": [
    "np.argmax(scores)"
   ]
  },
  {
   "cell_type": "code",
   "execution_count": 30,
   "id": "1251bc71-2506-45be-8c82-c24de0f1bea9",
   "metadata": {},
   "outputs": [
    {
     "data": {
      "text/plain": [
       "0.6993726421235386"
      ]
     },
     "execution_count": 30,
     "metadata": {},
     "output_type": "execute_result"
    }
   ],
   "source": [
    "scores[np.argmax(scores)]"
   ]
  },
  {
   "cell_type": "markdown",
   "id": "8aa53e69-ce2f-4d5f-87bd-243e885cf5d7",
   "metadata": {},
   "source": [
    "This Model has a r2_score of 0.699 at the random_state=47"
   ]
  },
  {
   "cell_type": "code",
   "execution_count": null,
   "id": "da0f8820-5f3c-4cfe-a660-6aaa339e5ea8",
   "metadata": {},
   "outputs": [],
   "source": []
  }
 ],
 "metadata": {
  "kernelspec": {
   "display_name": "Python 3 (ipykernel)",
   "language": "python",
   "name": "python3"
  },
  "language_info": {
   "codemirror_mode": {
    "name": "ipython",
    "version": 3
   },
   "file_extension": ".py",
   "mimetype": "text/x-python",
   "name": "python",
   "nbconvert_exporter": "python",
   "pygments_lexer": "ipython3",
   "version": "3.12.4"
  }
 },
 "nbformat": 4,
 "nbformat_minor": 5
}
